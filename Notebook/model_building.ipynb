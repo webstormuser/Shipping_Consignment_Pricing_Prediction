{
 "cells": [
  {
   "cell_type": "code",
   "execution_count": 1,
   "metadata": {},
   "outputs": [
    {
     "ename": "",
     "evalue": "",
     "output_type": "error",
     "traceback": [
      "\u001b[1;31mThe Kernel crashed while executing code in the the current cell or a previous cell. Please review the code in the cell(s) to identify a possible cause of the failure. Click <a href='https://aka.ms/vscodeJupyterKernelCrash'>here</a> for more info. View Jupyter <a href='command:jupyter.viewOutput'>log</a> for further details."
     ]
    }
   ],
   "source": [
    "import pandas as pd \n",
    "from sklearn.preprocessing import StandardScaler,RobustScaler\n",
    "from sklearn.impute import SimpleImputer,KNNImputer\n",
    "from sklearn.model_selection import train_test_split\n",
    "from sklearn.preprocessing import LabelEncoder\n",
    "from sklearn.model_selection import train_test_split\n",
    "from sklearn.preprocessing import LabelEncoder\n",
    "from sklearn.preprocessing import MinMaxScaler,OneHotEncoder\n",
    "from sklearn.pipeline import Pipeline\n",
    "from sklearn.tree import DecisionTreeRegressor\n",
    "from sklearn.linear_model import LassoCV\n",
    "from sklearn.linear_model import LinearRegression\n",
    "from sklearn.metrics import r2_score,mean_squared_error,mean_absolute_error\n",
    "from sklearn.compose import ColumnTransformer\n",
    "from sklearn.preprocessing import LabelEncoder\n",
    "from sklearn.ensemble import RandomForestRegressor, AdaBoostRegressor, GradientBoostingRegressor\n",
    "from sklearn.neighbors import KNeighborsRegressor\n",
    "from sklearn.tree import DecisionTreeRegressor\n",
    "from sklearn.svm import SVR\n",
    "from xgboost import XGBRegressor\n",
    "import warnings\n",
    "warnings.filterwarnings(\"ignore\")\n",
    "from sklearn.model_selection import cross_val_score\n",
    "from sklearn.metrics import make_scorer"
   ]
  },
  {
   "cell_type": "code",
   "execution_count": 6,
   "metadata": {},
   "outputs": [],
   "source": [
    "df=pd.read_csv('F:\\\\Shipping_Pricing_Prediction\\\\Notebook\\Preprocessed_df.csv')"
   ]
  },
  {
   "cell_type": "code",
   "execution_count": 7,
   "metadata": {},
   "outputs": [
    {
     "data": {
      "text/html": [
       "<div>\n",
       "<style scoped>\n",
       "    .dataframe tbody tr th:only-of-type {\n",
       "        vertical-align: middle;\n",
       "    }\n",
       "\n",
       "    .dataframe tbody tr th {\n",
       "        vertical-align: top;\n",
       "    }\n",
       "\n",
       "    .dataframe thead th {\n",
       "        text-align: right;\n",
       "    }\n",
       "</style>\n",
       "<table border=\"1\" class=\"dataframe\">\n",
       "  <thead>\n",
       "    <tr style=\"text-align: right;\">\n",
       "      <th></th>\n",
       "      <th>PO_/_SO_#</th>\n",
       "      <th>ASN/DN_#</th>\n",
       "      <th>Country</th>\n",
       "      <th>Fulfill_Via</th>\n",
       "      <th>Vendor_INCO_Term</th>\n",
       "      <th>Shipment_Mode</th>\n",
       "      <th>Sub_Classification</th>\n",
       "      <th>Unit_of_Measure_(Per_Pack)</th>\n",
       "      <th>Line_Item_Quantity</th>\n",
       "      <th>Line_Item_Value</th>\n",
       "      <th>Pack_Price</th>\n",
       "      <th>Unit_Price</th>\n",
       "      <th>First_Line_Designation</th>\n",
       "      <th>Weight_(Kilograms)</th>\n",
       "      <th>Freight_Cost_(USD)</th>\n",
       "      <th>Line_Item_Insurance_(USD)</th>\n",
       "      <th>Days_to_Process</th>\n",
       "    </tr>\n",
       "  </thead>\n",
       "  <tbody>\n",
       "    <tr>\n",
       "      <th>0</th>\n",
       "      <td>SCMS</td>\n",
       "      <td>ASN</td>\n",
       "      <td>Côte d'Ivoire</td>\n",
       "      <td>Direct Drop</td>\n",
       "      <td>EXW</td>\n",
       "      <td>Air</td>\n",
       "      <td>HIV test</td>\n",
       "      <td>30</td>\n",
       "      <td>19</td>\n",
       "      <td>551.0</td>\n",
       "      <td>29.00</td>\n",
       "      <td>0.97</td>\n",
       "      <td>Yes</td>\n",
       "      <td>13.0</td>\n",
       "      <td>780.34</td>\n",
       "      <td>NaN</td>\n",
       "      <td>-947</td>\n",
       "    </tr>\n",
       "    <tr>\n",
       "      <th>1</th>\n",
       "      <td>SCMS</td>\n",
       "      <td>ASN</td>\n",
       "      <td>Vietnam</td>\n",
       "      <td>Direct Drop</td>\n",
       "      <td>EXW</td>\n",
       "      <td>Air</td>\n",
       "      <td>Pediatric</td>\n",
       "      <td>240</td>\n",
       "      <td>1000</td>\n",
       "      <td>6200.0</td>\n",
       "      <td>6.20</td>\n",
       "      <td>0.03</td>\n",
       "      <td>Yes</td>\n",
       "      <td>358.0</td>\n",
       "      <td>4521.50</td>\n",
       "      <td>NaN</td>\n",
       "      <td>-782</td>\n",
       "    </tr>\n",
       "    <tr>\n",
       "      <th>2</th>\n",
       "      <td>SCMS</td>\n",
       "      <td>ASN</td>\n",
       "      <td>Côte d'Ivoire</td>\n",
       "      <td>Direct Drop</td>\n",
       "      <td>FCA</td>\n",
       "      <td>Air</td>\n",
       "      <td>HIV test</td>\n",
       "      <td>100</td>\n",
       "      <td>500</td>\n",
       "      <td>40000.0</td>\n",
       "      <td>80.00</td>\n",
       "      <td>0.80</td>\n",
       "      <td>Yes</td>\n",
       "      <td>171.0</td>\n",
       "      <td>1653.78</td>\n",
       "      <td>NaN</td>\n",
       "      <td>-861</td>\n",
       "    </tr>\n",
       "    <tr>\n",
       "      <th>3</th>\n",
       "      <td>SCMS</td>\n",
       "      <td>ASN</td>\n",
       "      <td>Vietnam</td>\n",
       "      <td>Direct Drop</td>\n",
       "      <td>EXW</td>\n",
       "      <td>Air</td>\n",
       "      <td>Adult</td>\n",
       "      <td>60</td>\n",
       "      <td>31920</td>\n",
       "      <td>127360.8</td>\n",
       "      <td>3.99</td>\n",
       "      <td>0.07</td>\n",
       "      <td>Yes</td>\n",
       "      <td>1855.0</td>\n",
       "      <td>16007.06</td>\n",
       "      <td>NaN</td>\n",
       "      <td>-856</td>\n",
       "    </tr>\n",
       "    <tr>\n",
       "      <th>4</th>\n",
       "      <td>SCMS</td>\n",
       "      <td>ASN</td>\n",
       "      <td>Vietnam</td>\n",
       "      <td>Direct Drop</td>\n",
       "      <td>EXW</td>\n",
       "      <td>Air</td>\n",
       "      <td>Adult</td>\n",
       "      <td>60</td>\n",
       "      <td>38000</td>\n",
       "      <td>121600.0</td>\n",
       "      <td>3.20</td>\n",
       "      <td>0.05</td>\n",
       "      <td>Yes</td>\n",
       "      <td>7590.0</td>\n",
       "      <td>45450.08</td>\n",
       "      <td>NaN</td>\n",
       "      <td>-877</td>\n",
       "    </tr>\n",
       "  </tbody>\n",
       "</table>\n",
       "</div>"
      ],
      "text/plain": [
       "  PO_/_SO_# ASN/DN_#        Country  Fulfill_Via Vendor_INCO_Term  \\\n",
       "0      SCMS      ASN  Côte d'Ivoire  Direct Drop              EXW   \n",
       "1      SCMS      ASN        Vietnam  Direct Drop              EXW   \n",
       "2      SCMS      ASN  Côte d'Ivoire  Direct Drop              FCA   \n",
       "3      SCMS      ASN        Vietnam  Direct Drop              EXW   \n",
       "4      SCMS      ASN        Vietnam  Direct Drop              EXW   \n",
       "\n",
       "  Shipment_Mode Sub_Classification  Unit_of_Measure_(Per_Pack)  \\\n",
       "0           Air           HIV test                          30   \n",
       "1           Air          Pediatric                         240   \n",
       "2           Air           HIV test                         100   \n",
       "3           Air              Adult                          60   \n",
       "4           Air              Adult                          60   \n",
       "\n",
       "   Line_Item_Quantity  Line_Item_Value  Pack_Price  Unit_Price  \\\n",
       "0                  19            551.0       29.00        0.97   \n",
       "1                1000           6200.0        6.20        0.03   \n",
       "2                 500          40000.0       80.00        0.80   \n",
       "3               31920         127360.8        3.99        0.07   \n",
       "4               38000         121600.0        3.20        0.05   \n",
       "\n",
       "  First_Line_Designation  Weight_(Kilograms)  Freight_Cost_(USD)  \\\n",
       "0                    Yes                13.0              780.34   \n",
       "1                    Yes               358.0             4521.50   \n",
       "2                    Yes               171.0             1653.78   \n",
       "3                    Yes              1855.0            16007.06   \n",
       "4                    Yes              7590.0            45450.08   \n",
       "\n",
       "   Line_Item_Insurance_(USD)  Days_to_Process  \n",
       "0                        NaN             -947  \n",
       "1                        NaN             -782  \n",
       "2                        NaN             -861  \n",
       "3                        NaN             -856  \n",
       "4                        NaN             -877  "
      ]
     },
     "execution_count": 7,
     "metadata": {},
     "output_type": "execute_result"
    }
   ],
   "source": [
    "df.head()"
   ]
  },
  {
   "cell_type": "code",
   "execution_count": 10,
   "metadata": {},
   "outputs": [
    {
     "data": {
      "text/plain": [
       "(10324, 17)"
      ]
     },
     "execution_count": 10,
     "metadata": {},
     "output_type": "execute_result"
    }
   ],
   "source": [
    "df.shape"
   ]
  },
  {
   "cell_type": "code",
   "execution_count": 11,
   "metadata": {},
   "outputs": [
    {
     "data": {
      "text/plain": [
       "61"
      ]
     },
     "execution_count": 11,
     "metadata": {},
     "output_type": "execute_result"
    }
   ],
   "source": [
    "df.duplicated().sum()"
   ]
  },
  {
   "cell_type": "code",
   "execution_count": 12,
   "metadata": {},
   "outputs": [],
   "source": [
    "# Drop duplicates \n",
    "df.drop_duplicates(inplace=True)"
   ]
  },
  {
   "cell_type": "markdown",
   "metadata": {},
   "source": [
    "# Feature Transformation and Scalling "
   ]
  },
  {
   "cell_type": "code",
   "execution_count": 13,
   "metadata": {},
   "outputs": [],
   "source": [
    "import seaborn as sns\n",
    "import numpy as np"
   ]
  },
  {
   "cell_type": "code",
   "execution_count": 14,
   "metadata": {},
   "outputs": [
    {
     "data": {
      "text/plain": [
       "['PO_/_SO_#',\n",
       " 'ASN/DN_#',\n",
       " 'Country',\n",
       " 'Fulfill_Via',\n",
       " 'Vendor_INCO_Term',\n",
       " 'Shipment_Mode',\n",
       " 'Sub_Classification',\n",
       " 'First_Line_Designation']"
      ]
     },
     "execution_count": 14,
     "metadata": {},
     "output_type": "execute_result"
    }
   ],
   "source": [
    "cat_features=[cols for cols in df.columns if df[cols].dtype=='O']\n",
    "cat_features"
   ]
  },
  {
   "cell_type": "code",
   "execution_count": 15,
   "metadata": {},
   "outputs": [],
   "source": [
    "num_features=['Unit_of_Measure_(Per_Pack)',\n",
    " 'Line_Item_Quantity',\n",
    " 'Pack_Price',\n",
    " 'Unit_Price',\n",
    " 'Weight_(Kilograms)',\n",
    " 'Freight_Cost_(USD)',\n",
    " 'Line_Item_Insurance_(USD)',\n",
    " 'Days_to_Process']\n"
   ]
  },
  {
   "cell_type": "markdown",
   "metadata": {},
   "source": [
    "# Experiment no 1 :use of SimpleImputer and Robustscaler for numeric data and onehot encoder for categorical and Simpleimputer for missing data"
   ]
  },
  {
   "cell_type": "code",
   "execution_count": 8,
   "metadata": {},
   "outputs": [],
   "source": [
    "x=df.drop('Line_Item_Value',axis=1)\n",
    "y=df['Line_Item_Value']"
   ]
  },
  {
   "cell_type": "code",
   "execution_count": 17,
   "metadata": {},
   "outputs": [
    {
     "data": {
      "text/html": [
       "<div>\n",
       "<style scoped>\n",
       "    .dataframe tbody tr th:only-of-type {\n",
       "        vertical-align: middle;\n",
       "    }\n",
       "\n",
       "    .dataframe tbody tr th {\n",
       "        vertical-align: top;\n",
       "    }\n",
       "\n",
       "    .dataframe thead th {\n",
       "        text-align: right;\n",
       "    }\n",
       "</style>\n",
       "<table border=\"1\" class=\"dataframe\">\n",
       "  <thead>\n",
       "    <tr style=\"text-align: right;\">\n",
       "      <th></th>\n",
       "      <th>PO_/_SO_#</th>\n",
       "      <th>ASN/DN_#</th>\n",
       "      <th>Country</th>\n",
       "      <th>Fulfill_Via</th>\n",
       "      <th>Vendor_INCO_Term</th>\n",
       "      <th>Shipment_Mode</th>\n",
       "      <th>Sub_Classification</th>\n",
       "      <th>Unit_of_Measure_(Per_Pack)</th>\n",
       "      <th>Line_Item_Quantity</th>\n",
       "      <th>Pack_Price</th>\n",
       "      <th>Unit_Price</th>\n",
       "      <th>First_Line_Designation</th>\n",
       "      <th>Weight_(Kilograms)</th>\n",
       "      <th>Freight_Cost_(USD)</th>\n",
       "      <th>Line_Item_Insurance_(USD)</th>\n",
       "      <th>Days_to_Process</th>\n",
       "    </tr>\n",
       "  </thead>\n",
       "  <tbody>\n",
       "    <tr>\n",
       "      <th>0</th>\n",
       "      <td>SCMS</td>\n",
       "      <td>ASN</td>\n",
       "      <td>Côte d'Ivoire</td>\n",
       "      <td>Direct Drop</td>\n",
       "      <td>EXW</td>\n",
       "      <td>Air</td>\n",
       "      <td>HIV test</td>\n",
       "      <td>30</td>\n",
       "      <td>19</td>\n",
       "      <td>29.00</td>\n",
       "      <td>0.97</td>\n",
       "      <td>Yes</td>\n",
       "      <td>13.0</td>\n",
       "      <td>780.34</td>\n",
       "      <td>NaN</td>\n",
       "      <td>-947</td>\n",
       "    </tr>\n",
       "    <tr>\n",
       "      <th>1</th>\n",
       "      <td>SCMS</td>\n",
       "      <td>ASN</td>\n",
       "      <td>Vietnam</td>\n",
       "      <td>Direct Drop</td>\n",
       "      <td>EXW</td>\n",
       "      <td>Air</td>\n",
       "      <td>Pediatric</td>\n",
       "      <td>240</td>\n",
       "      <td>1000</td>\n",
       "      <td>6.20</td>\n",
       "      <td>0.03</td>\n",
       "      <td>Yes</td>\n",
       "      <td>358.0</td>\n",
       "      <td>4521.50</td>\n",
       "      <td>NaN</td>\n",
       "      <td>-782</td>\n",
       "    </tr>\n",
       "    <tr>\n",
       "      <th>2</th>\n",
       "      <td>SCMS</td>\n",
       "      <td>ASN</td>\n",
       "      <td>Côte d'Ivoire</td>\n",
       "      <td>Direct Drop</td>\n",
       "      <td>FCA</td>\n",
       "      <td>Air</td>\n",
       "      <td>HIV test</td>\n",
       "      <td>100</td>\n",
       "      <td>500</td>\n",
       "      <td>80.00</td>\n",
       "      <td>0.80</td>\n",
       "      <td>Yes</td>\n",
       "      <td>171.0</td>\n",
       "      <td>1653.78</td>\n",
       "      <td>NaN</td>\n",
       "      <td>-861</td>\n",
       "    </tr>\n",
       "    <tr>\n",
       "      <th>3</th>\n",
       "      <td>SCMS</td>\n",
       "      <td>ASN</td>\n",
       "      <td>Vietnam</td>\n",
       "      <td>Direct Drop</td>\n",
       "      <td>EXW</td>\n",
       "      <td>Air</td>\n",
       "      <td>Adult</td>\n",
       "      <td>60</td>\n",
       "      <td>31920</td>\n",
       "      <td>3.99</td>\n",
       "      <td>0.07</td>\n",
       "      <td>Yes</td>\n",
       "      <td>1855.0</td>\n",
       "      <td>16007.06</td>\n",
       "      <td>NaN</td>\n",
       "      <td>-856</td>\n",
       "    </tr>\n",
       "    <tr>\n",
       "      <th>4</th>\n",
       "      <td>SCMS</td>\n",
       "      <td>ASN</td>\n",
       "      <td>Vietnam</td>\n",
       "      <td>Direct Drop</td>\n",
       "      <td>EXW</td>\n",
       "      <td>Air</td>\n",
       "      <td>Adult</td>\n",
       "      <td>60</td>\n",
       "      <td>38000</td>\n",
       "      <td>3.20</td>\n",
       "      <td>0.05</td>\n",
       "      <td>Yes</td>\n",
       "      <td>7590.0</td>\n",
       "      <td>45450.08</td>\n",
       "      <td>NaN</td>\n",
       "      <td>-877</td>\n",
       "    </tr>\n",
       "  </tbody>\n",
       "</table>\n",
       "</div>"
      ],
      "text/plain": [
       "  PO_/_SO_# ASN/DN_#        Country  Fulfill_Via Vendor_INCO_Term  \\\n",
       "0      SCMS      ASN  Côte d'Ivoire  Direct Drop              EXW   \n",
       "1      SCMS      ASN        Vietnam  Direct Drop              EXW   \n",
       "2      SCMS      ASN  Côte d'Ivoire  Direct Drop              FCA   \n",
       "3      SCMS      ASN        Vietnam  Direct Drop              EXW   \n",
       "4      SCMS      ASN        Vietnam  Direct Drop              EXW   \n",
       "\n",
       "  Shipment_Mode Sub_Classification  Unit_of_Measure_(Per_Pack)  \\\n",
       "0           Air           HIV test                          30   \n",
       "1           Air          Pediatric                         240   \n",
       "2           Air           HIV test                         100   \n",
       "3           Air              Adult                          60   \n",
       "4           Air              Adult                          60   \n",
       "\n",
       "   Line_Item_Quantity  Pack_Price  Unit_Price First_Line_Designation  \\\n",
       "0                  19       29.00        0.97                    Yes   \n",
       "1                1000        6.20        0.03                    Yes   \n",
       "2                 500       80.00        0.80                    Yes   \n",
       "3               31920        3.99        0.07                    Yes   \n",
       "4               38000        3.20        0.05                    Yes   \n",
       "\n",
       "   Weight_(Kilograms)  Freight_Cost_(USD)  Line_Item_Insurance_(USD)  \\\n",
       "0                13.0              780.34                        NaN   \n",
       "1               358.0             4521.50                        NaN   \n",
       "2               171.0             1653.78                        NaN   \n",
       "3              1855.0            16007.06                        NaN   \n",
       "4              7590.0            45450.08                        NaN   \n",
       "\n",
       "   Days_to_Process  \n",
       "0             -947  \n",
       "1             -782  \n",
       "2             -861  \n",
       "3             -856  \n",
       "4             -877  "
      ]
     },
     "execution_count": 17,
     "metadata": {},
     "output_type": "execute_result"
    }
   ],
   "source": [
    "x.head()"
   ]
  },
  {
   "cell_type": "code",
   "execution_count": 18,
   "metadata": {},
   "outputs": [
    {
     "data": {
      "text/plain": [
       "Freight_Cost_(USD)            2438\n",
       "Weight_(Kilograms)            1482\n",
       "Shipment_Mode                  358\n",
       "Line_Item_Insurance_(USD)      285\n",
       "PO_/_SO_#                        0\n",
       "ASN/DN_#                         0\n",
       "Country                          0\n",
       "Fulfill_Via                      0\n",
       "Vendor_INCO_Term                 0\n",
       "Sub_Classification               0\n",
       "Unit_of_Measure_(Per_Pack)       0\n",
       "Line_Item_Quantity               0\n",
       "Pack_Price                       0\n",
       "Unit_Price                       0\n",
       "First_Line_Designation           0\n",
       "Days_to_Process                  0\n",
       "dtype: int64"
      ]
     },
     "execution_count": 18,
     "metadata": {},
     "output_type": "execute_result"
    }
   ],
   "source": [
    "x.isna().sum().sort_values(ascending=False)"
   ]
  },
  {
   "cell_type": "code",
   "execution_count": 13,
   "metadata": {},
   "outputs": [
    {
     "name": "stdout",
     "output_type": "stream",
     "text": [
      "<class 'pandas.core.frame.DataFrame'>\n",
      "Index: 10263 entries, 0 to 10323\n",
      "Data columns (total 16 columns):\n",
      " #   Column                      Non-Null Count  Dtype  \n",
      "---  ------                      --------------  -----  \n",
      " 0   PO_/_SO_#                   10263 non-null  object \n",
      " 1   ASN/DN_#                    10263 non-null  object \n",
      " 2   Country                     10263 non-null  object \n",
      " 3   Fulfill_Via                 10263 non-null  object \n",
      " 4   Vendor_INCO_Term            10263 non-null  object \n",
      " 5   Shipment_Mode               9905 non-null   object \n",
      " 6   Sub_Classification          10263 non-null  object \n",
      " 7   Unit_of_Measure_(Per_Pack)  10263 non-null  int64  \n",
      " 8   Line_Item_Quantity          10263 non-null  int64  \n",
      " 9   Pack_Price                  10263 non-null  float64\n",
      " 10  Unit_Price                  10263 non-null  float64\n",
      " 11  First_Line_Designation      10263 non-null  object \n",
      " 12  Weight_(Kilograms)          8781 non-null   float64\n",
      " 13  Freight_Cost_(USD)          7825 non-null   float64\n",
      " 14  Line_Item_Insurance_(USD)   9978 non-null   float64\n",
      " 15  Days_to_Process             10263 non-null  int64  \n",
      "dtypes: float64(5), int64(3), object(8)\n",
      "memory usage: 1.3+ MB\n"
     ]
    }
   ],
   "source": [
    "x.info()"
   ]
  },
  {
   "cell_type": "code",
   "execution_count": 19,
   "metadata": {},
   "outputs": [],
   "source": [
    "scaler=RobustScaler()"
   ]
  },
  {
   "cell_type": "code",
   "execution_count": 20,
   "metadata": {},
   "outputs": [],
   "source": [
    "numerical_transformer = Pipeline(steps=[\n",
    "    ('imputer', SimpleImputer(strategy='median')),\n",
    "    ('scaler', RobustScaler())])"
   ]
  },
  {
   "cell_type": "code",
   "execution_count": 21,
   "metadata": {},
   "outputs": [],
   "source": [
    "# Create transformers for categorical and numerical features\n",
    "categorical_transformer = Pipeline(steps=[\n",
    "    ('imputer', SimpleImputer(strategy='most_frequent', fill_value='missing')),\n",
    "    ('onehot', OneHotEncoder(drop='first',handle_unknown='ignore'))\n",
    "])"
   ]
  },
  {
   "cell_type": "code",
   "execution_count": 22,
   "metadata": {},
   "outputs": [],
   "source": [
    "# Combine transformers using ColumnTransformer\n",
    "preprocessor = ColumnTransformer(\n",
    "    transformers=[\n",
    "        ('cat', categorical_transformer, cat_features),\n",
    "        ('num', numerical_transformer, num_features)\n",
    "    ])"
   ]
  },
  {
   "cell_type": "code",
   "execution_count": 23,
   "metadata": {},
   "outputs": [],
   "source": [
    "# Create the final pipeline\n",
    "pipeline = Pipeline(steps=[\n",
    "    ('preprocessor', preprocessor)\n",
    "])"
   ]
  },
  {
   "cell_type": "code",
   "execution_count": 24,
   "metadata": {},
   "outputs": [],
   "source": [
    "# Fit and transform the data\n",
    "X_transformed = pipeline.fit_transform(x)"
   ]
  },
  {
   "cell_type": "code",
   "execution_count": 25,
   "metadata": {},
   "outputs": [
    {
     "data": {
      "text/plain": [
       "<10263x67 sparse matrix of type '<class 'numpy.float64'>'\n",
       "\twith 134615 stored elements in Compressed Sparse Row format>"
      ]
     },
     "execution_count": 25,
     "metadata": {},
     "output_type": "execute_result"
    }
   ],
   "source": [
    "X_transformed"
   ]
  },
  {
   "cell_type": "code",
   "execution_count": 26,
   "metadata": {},
   "outputs": [
    {
     "data": {
      "text/plain": [
       "count    1.026300e+04\n",
       "mean     1.580605e+05\n",
       "std      3.460482e+05\n",
       "min      0.000000e+00\n",
       "25%      4.392585e+03\n",
       "50%      3.052350e+04\n",
       "75%      1.664648e+05\n",
       "max      5.951990e+06\n",
       "Name: Line_Item_Value, dtype: float64"
      ]
     },
     "execution_count": 26,
     "metadata": {},
     "output_type": "execute_result"
    }
   ],
   "source": [
    "df['Line_Item_Value'].describe()"
   ]
  },
  {
   "cell_type": "code",
   "execution_count": 27,
   "metadata": {},
   "outputs": [],
   "source": [
    "# Reshape the target variable to fit the scaler's input format\n",
    "y = y.values.reshape(-1, 1)"
   ]
  },
  {
   "cell_type": "code",
   "execution_count": 28,
   "metadata": {},
   "outputs": [],
   "source": [
    "# Fit and transform the target variable\n",
    "y_transformed = scaler.fit_transform(y)"
   ]
  },
  {
   "cell_type": "code",
   "execution_count": 29,
   "metadata": {},
   "outputs": [],
   "source": [
    "# Reshape back to a 1D array\n",
    "y_transformed = y_transformed.flatten()"
   ]
  },
  {
   "cell_type": "code",
   "execution_count": 30,
   "metadata": {},
   "outputs": [],
   "source": [
    "# Split the data into train and test sets\n",
    "X_train, X_test, y_train_scaled, y_test_scaled = train_test_split(X_transformed, y_transformed,test_size=0.2, random_state=42)"
   ]
  },
  {
   "cell_type": "code",
   "execution_count": 31,
   "metadata": {},
   "outputs": [
    {
     "name": "stdout",
     "output_type": "stream",
     "text": [
      "(8210, 67) (2053, 67)\n"
     ]
    }
   ],
   "source": [
    "print(X_train.shape,X_test.shape)"
   ]
  },
  {
   "cell_type": "code",
   "execution_count": 32,
   "metadata": {},
   "outputs": [
    {
     "name": "stdout",
     "output_type": "stream",
     "text": [
      "(8210,) (2053,)\n"
     ]
    }
   ],
   "source": [
    "print(y_train_scaled.shape,y_test_scaled.shape)"
   ]
  },
  {
   "cell_type": "code",
   "execution_count": 34,
   "metadata": {},
   "outputs": [],
   "source": [
    "# Dictionary which contains models for experiment\n",
    "models_list = {\n",
    "    \"Random Forest\": RandomForestRegressor(),\n",
    "    \"Decision Tree\": DecisionTreeRegressor(),\n",
    "    \"Gradient Boosting\": GradientBoostingRegressor(),\n",
    "     \"K-Neighbors Regressor\": KNeighborsRegressor(),\n",
    "    \"XGBClassifier\": XGBRegressor(), \n",
    "    \"AdaBoost Regressor\": AdaBoostRegressor(),\n",
    "    'LinearRegression':LinearRegression(),\n",
    "    'LassoCV':LassoCV()\n",
    "}\n"
   ]
  },
  {
   "cell_type": "code",
   "execution_count": 33,
   "metadata": {},
   "outputs": [],
   "source": [
    "def evaluate_regression(true, predicted):\n",
    "    '''\n",
    "    This function takes in true values and predicted values\n",
    "    Returns: RMSE, MSE, MAE, R-squared, Adjusted R-squared\n",
    "    '''\n",
    "    mse = mean_squared_error(true, predicted)  # Calculate MSE\n",
    "    r2 = r2_score(true, predicted)  # Calculate R-squared\n",
    "\n",
    "    # Calculate Adjusted R-squared\n",
    "    n = len(true)\n",
    "    p = 1  # Number of features used for prediction (change if you have more features)\n",
    "    adj_r2 = 1 - (1 - r2) * (n - 1) / (n - p - 1)\n",
    "\n",
    " \n",
    "    return  mse, r2, adj_r2\n"
   ]
  },
  {
   "cell_type": "code",
   "execution_count": 31,
   "metadata": {},
   "outputs": [],
   "source": [
    "# Create a function which can evaluate models and return a report \n",
    "def evaluate_models(X, y, models):\n",
    "    '''\n",
    "    This function takes in X and y and models dictionary as input\n",
    "    It splits the data into Train Test split\n",
    "    Iterates through the given model dictionary and evaluates the metrics\n",
    "    Returns: Dataframe which contains report of all models metrics with cost\n",
    "    '''\n",
    "    models_list = []\n",
    "    train_mse=[]\n",
    "    test_mse=[]\n",
    "    train_r2_score=[]\n",
    "    test_r2_score=[]\n",
    "    train_adjusted_r2_score=[]\n",
    "    test_adjusted_r2_score=[]\n",
    "    # separate dataset into train and test\n",
    "    X_train, X_test, y_train, y_test = train_test_split(X,y,test_size=0.2,random_state=42)\n",
    "    \n",
    "    # Create cost of the model as per data description\n",
    "    \n",
    "\n",
    "    for i in range(len(list(models))):\n",
    "        model = list(models.values())[i]\n",
    "        model.fit(X_train, y_train) # Train model\n",
    "\n",
    "        # Make predictions\n",
    "        y_train_pred = model.predict(X_train)\n",
    "        y_test_pred = model.predict(X_test)\n",
    "\n",
    "        # Training set performance\n",
    "        model_train_mse,model_train_r2,model_train_adjusted_r2=evaluate_regression(y_train,y_train_pred)\n",
    "        train_mse.append(model_train_mse)\n",
    "        train_r2_score.append(model_train_r2)\n",
    "        train_adjusted_r2_score.append(model_train_adjusted_r2)\n",
    "\n",
    "        # Test set performance\n",
    "        model_test_mse,model_test_r2,model_test_adjusted_r2=evaluate_regression(y_test,y_test_pred)\n",
    "        test_mse.append(model_test_mse)\n",
    "        test_r2_score.append(model_test_r2)\n",
    "        test_adjusted_r2_score.append(model_test_adjusted_r2)\n",
    "\n",
    "        print(list(models.keys())[i])\n",
    "        models_list.append(list(models.keys())[i])\n",
    "\n",
    "    \n",
    "        print('Model performance for Training set')\n",
    "        print('- MSE: {:.4f}'.format(model_train_mse)) \n",
    "        print('- R2_score: {:.4f}'.format(model_train_r2))\n",
    "        print('- Adjusted R2 Score: {:.4f}'.format(model_train_adjusted_r2))\n",
    "\n",
    "        print('----------------------------------')\n",
    "\n",
    "        print('Model performance for Test set')\n",
    "        print('- MSE: {:.4f}'.format(model_test_mse)) \n",
    "        print('- R2_score: {:.4f}'.format(model_test_r2))\n",
    "        print('- Adjusted R2 Score: {:.4f}'.format(model_test_adjusted_r2))\n",
    "    \n",
    "        print('='*35)\n",
    "        print('\\n')\n",
    "        \n",
    "    report = pd.DataFrame(list(zip(models_list, train_mse, train_r2_score, train_adjusted_r2_score, test_mse, test_r2_score, test_adjusted_r2_score)), columns=['Model Name', 'Train_MSE', 'Train_R2', 'Train_Adjusted_r2', 'Test_MSE', 'Test_R2', 'Test_Adjusted_R2']).sort_values(by=[\"Test_Adjusted_R2\"], ascending=False)\n",
    "    return report"
   ]
  },
  {
   "cell_type": "code",
   "execution_count": 32,
   "metadata": {},
   "outputs": [
    {
     "name": "stdout",
     "output_type": "stream",
     "text": [
      "Random Forest\n",
      "Model performance for Training set\n",
      "- MSE: 0.0109\n",
      "- R2_score: 0.9977\n",
      "- Adjusted R2 Score: 0.9977\n",
      "----------------------------------\n",
      "Model performance for Test set\n",
      "- MSE: 0.0509\n",
      "- R2_score: 0.9875\n",
      "- Adjusted R2 Score: 0.9875\n",
      "===================================\n",
      "\n",
      "\n",
      "Decision Tree\n",
      "Model performance for Training set\n",
      "- MSE: 0.0000\n",
      "- R2_score: 1.0000\n",
      "- Adjusted R2 Score: 1.0000\n",
      "----------------------------------\n",
      "Model performance for Test set\n",
      "- MSE: 0.1486\n",
      "- R2_score: 0.9636\n",
      "- Adjusted R2 Score: 0.9636\n",
      "===================================\n",
      "\n",
      "\n",
      "Gradient Boosting\n",
      "Model performance for Training set\n",
      "- MSE: 0.0435\n",
      "- R2_score: 0.9907\n",
      "- Adjusted R2 Score: 0.9907\n",
      "----------------------------------\n",
      "Model performance for Test set\n",
      "- MSE: 0.0701\n",
      "- R2_score: 0.9828\n",
      "- Adjusted R2 Score: 0.9828\n",
      "===================================\n",
      "\n",
      "\n",
      "K-Neighbors Regressor\n",
      "Model performance for Training set\n",
      "- MSE: 0.1686\n",
      "- R2_score: 0.9640\n",
      "- Adjusted R2 Score: 0.9639\n",
      "----------------------------------\n",
      "Model performance for Test set\n",
      "- MSE: 0.1763\n",
      "- R2_score: 0.9568\n",
      "- Adjusted R2 Score: 0.9568\n",
      "===================================\n",
      "\n",
      "\n",
      "XGBClassifier\n",
      "Model performance for Training set\n",
      "- MSE: 0.0008\n",
      "- R2_score: 0.9998\n",
      "- Adjusted R2 Score: 0.9998\n",
      "----------------------------------\n",
      "Model performance for Test set\n",
      "- MSE: 0.0573\n",
      "- R2_score: 0.9860\n",
      "- Adjusted R2 Score: 0.9860\n",
      "===================================\n",
      "\n",
      "\n",
      "AdaBoost Regressor\n",
      "Model performance for Training set\n",
      "- MSE: 1.2097\n",
      "- R2_score: 0.7414\n",
      "- Adjusted R2 Score: 0.7414\n",
      "----------------------------------\n",
      "Model performance for Test set\n",
      "- MSE: 1.2609\n",
      "- R2_score: 0.6909\n",
      "- Adjusted R2 Score: 0.6908\n",
      "===================================\n",
      "\n",
      "\n",
      "LinearRegression\n",
      "Model performance for Training set\n",
      "- MSE: 0.2736\n",
      "- R2_score: 0.9415\n",
      "- Adjusted R2 Score: 0.9415\n",
      "----------------------------------\n",
      "Model performance for Test set\n",
      "- MSE: 0.2744\n",
      "- R2_score: 0.9327\n",
      "- Adjusted R2 Score: 0.9327\n",
      "===================================\n",
      "\n",
      "\n",
      "LassoCV\n",
      "Model performance for Training set\n",
      "- MSE: 0.2787\n",
      "- R2_score: 0.9404\n",
      "- Adjusted R2 Score: 0.9404\n",
      "----------------------------------\n",
      "Model performance for Test set\n",
      "- MSE: 0.2839\n",
      "- R2_score: 0.9304\n",
      "- Adjusted R2 Score: 0.9304\n",
      "===================================\n",
      "\n",
      "\n"
     ]
    },
    {
     "data": {
      "text/html": [
       "<div>\n",
       "<style scoped>\n",
       "    .dataframe tbody tr th:only-of-type {\n",
       "        vertical-align: middle;\n",
       "    }\n",
       "\n",
       "    .dataframe tbody tr th {\n",
       "        vertical-align: top;\n",
       "    }\n",
       "\n",
       "    .dataframe thead th {\n",
       "        text-align: right;\n",
       "    }\n",
       "</style>\n",
       "<table border=\"1\" class=\"dataframe\">\n",
       "  <thead>\n",
       "    <tr style=\"text-align: right;\">\n",
       "      <th></th>\n",
       "      <th>Model Name</th>\n",
       "      <th>Train_MSE</th>\n",
       "      <th>Train_R2</th>\n",
       "      <th>Train_Adjusted_r2</th>\n",
       "      <th>Test_MSE</th>\n",
       "      <th>Test_R2</th>\n",
       "      <th>Test_Adjusted_R2</th>\n",
       "    </tr>\n",
       "  </thead>\n",
       "  <tbody>\n",
       "    <tr>\n",
       "      <th>0</th>\n",
       "      <td>Random Forest</td>\n",
       "      <td>1.088700e-02</td>\n",
       "      <td>0.997673</td>\n",
       "      <td>0.997672</td>\n",
       "      <td>0.050945</td>\n",
       "      <td>0.987513</td>\n",
       "      <td>0.987507</td>\n",
       "    </tr>\n",
       "    <tr>\n",
       "      <th>4</th>\n",
       "      <td>XGBClassifier</td>\n",
       "      <td>8.313064e-04</td>\n",
       "      <td>0.999822</td>\n",
       "      <td>0.999822</td>\n",
       "      <td>0.057252</td>\n",
       "      <td>0.985967</td>\n",
       "      <td>0.985960</td>\n",
       "    </tr>\n",
       "    <tr>\n",
       "      <th>2</th>\n",
       "      <td>Gradient Boosting</td>\n",
       "      <td>4.353714e-02</td>\n",
       "      <td>0.990693</td>\n",
       "      <td>0.990692</td>\n",
       "      <td>0.070135</td>\n",
       "      <td>0.982810</td>\n",
       "      <td>0.982801</td>\n",
       "    </tr>\n",
       "    <tr>\n",
       "      <th>1</th>\n",
       "      <td>Decision Tree</td>\n",
       "      <td>3.240946e-34</td>\n",
       "      <td>1.000000</td>\n",
       "      <td>1.000000</td>\n",
       "      <td>0.148594</td>\n",
       "      <td>0.963579</td>\n",
       "      <td>0.963561</td>\n",
       "    </tr>\n",
       "    <tr>\n",
       "      <th>3</th>\n",
       "      <td>K-Neighbors Regressor</td>\n",
       "      <td>1.686343e-01</td>\n",
       "      <td>0.963951</td>\n",
       "      <td>0.963947</td>\n",
       "      <td>0.176269</td>\n",
       "      <td>0.956795</td>\n",
       "      <td>0.956774</td>\n",
       "    </tr>\n",
       "    <tr>\n",
       "      <th>6</th>\n",
       "      <td>LinearRegression</td>\n",
       "      <td>2.736146e-01</td>\n",
       "      <td>0.941510</td>\n",
       "      <td>0.941503</td>\n",
       "      <td>0.274379</td>\n",
       "      <td>0.932748</td>\n",
       "      <td>0.932715</td>\n",
       "    </tr>\n",
       "    <tr>\n",
       "      <th>7</th>\n",
       "      <td>LassoCV</td>\n",
       "      <td>2.787223e-01</td>\n",
       "      <td>0.940418</td>\n",
       "      <td>0.940411</td>\n",
       "      <td>0.283891</td>\n",
       "      <td>0.930417</td>\n",
       "      <td>0.930383</td>\n",
       "    </tr>\n",
       "    <tr>\n",
       "      <th>5</th>\n",
       "      <td>AdaBoost Regressor</td>\n",
       "      <td>1.209750e+00</td>\n",
       "      <td>0.741394</td>\n",
       "      <td>0.741362</td>\n",
       "      <td>1.260916</td>\n",
       "      <td>0.690941</td>\n",
       "      <td>0.690791</td>\n",
       "    </tr>\n",
       "  </tbody>\n",
       "</table>\n",
       "</div>"
      ],
      "text/plain": [
       "              Model Name     Train_MSE  Train_R2  Train_Adjusted_r2  Test_MSE  \\\n",
       "0          Random Forest  1.088700e-02  0.997673           0.997672  0.050945   \n",
       "4          XGBClassifier  8.313064e-04  0.999822           0.999822  0.057252   \n",
       "2      Gradient Boosting  4.353714e-02  0.990693           0.990692  0.070135   \n",
       "1          Decision Tree  3.240946e-34  1.000000           1.000000  0.148594   \n",
       "3  K-Neighbors Regressor  1.686343e-01  0.963951           0.963947  0.176269   \n",
       "6       LinearRegression  2.736146e-01  0.941510           0.941503  0.274379   \n",
       "7                LassoCV  2.787223e-01  0.940418           0.940411  0.283891   \n",
       "5     AdaBoost Regressor  1.209750e+00  0.741394           0.741362  1.260916   \n",
       "\n",
       "    Test_R2  Test_Adjusted_R2  \n",
       "0  0.987513          0.987507  \n",
       "4  0.985967          0.985960  \n",
       "2  0.982810          0.982801  \n",
       "1  0.963579          0.963561  \n",
       "3  0.956795          0.956774  \n",
       "6  0.932748          0.932715  \n",
       "7  0.930417          0.930383  \n",
       "5  0.690941          0.690791  "
      ]
     },
     "execution_count": 32,
     "metadata": {},
     "output_type": "execute_result"
    }
   ],
   "source": [
    "report1=evaluate_models(X_transformed,y_transformed,models_list)\n",
    "report1"
   ]
  },
  {
   "cell_type": "markdown",
   "metadata": {},
   "source": [
    "In 1st experiment RandomForest Regressor is performing well without hypertunning let do crossvalidation"
   ]
  },
  {
   "cell_type": "code",
   "execution_count": 33,
   "metadata": {},
   "outputs": [],
   "source": [
    "# Split the data into train and test sets\n",
    "X_train, X_test, y_train_scaled, y_test_scaled = train_test_split(X_transformed, y_transformed,test_size=0.2, random_state=42)"
   ]
  },
  {
   "cell_type": "code",
   "execution_count": 34,
   "metadata": {},
   "outputs": [],
   "source": [
    "random=RandomForestRegressor()\n",
    "xgb=XGBRegressor()\n",
    "gd=GradientBoostingRegressor()"
   ]
  },
  {
   "cell_type": "code",
   "execution_count": 35,
   "metadata": {},
   "outputs": [],
   "source": [
    "model1=random.fit(X_train,y_train_scaled)\n",
    "model2=xgb.fit(X_train,y_train_scaled)\n",
    "model3=gd.fit(X_train,y_train_scaled)"
   ]
  },
  {
   "cell_type": "code",
   "execution_count": 36,
   "metadata": {},
   "outputs": [],
   "source": [
    "from sklearn import model_selection\n",
    "from sklearn import metrics"
   ]
  },
  {
   "cell_type": "code",
   "execution_count": 37,
   "metadata": {},
   "outputs": [],
   "source": [
    "cv = model_selection.KFold(n_splits=8)"
   ]
  },
  {
   "cell_type": "code",
   "execution_count": 38,
   "metadata": {},
   "outputs": [
    {
     "name": "stdout",
     "output_type": "stream",
     "text": [
      "0.050157234570880053\n",
      "0.057252116868023076\n",
      "0.07058141504611018\n",
      "*******************************************************\n",
      "0.050157234570880053\n",
      "0.057252116868023076\n",
      "0.07058141504611018\n",
      "*******************************************************\n",
      "0.050157234570880053\n",
      "0.057252116868023076\n",
      "0.07058141504611018\n",
      "*******************************************************\n",
      "0.050157234570880053\n",
      "0.057252116868023076\n",
      "0.07058141504611018\n",
      "*******************************************************\n",
      "0.050157234570880053\n",
      "0.057252116868023076\n",
      "0.07058141504611018\n",
      "*******************************************************\n",
      "0.050157234570880053\n",
      "0.057252116868023076\n",
      "0.07058141504611018\n",
      "*******************************************************\n",
      "0.050157234570880053\n",
      "0.057252116868023076\n",
      "0.07058141504611018\n",
      "*******************************************************\n",
      "0.050157234570880053\n",
      "0.057252116868023076\n",
      "0.07058141504611018\n",
      "*******************************************************\n"
     ]
    }
   ],
   "source": [
    "for (train, test), i in zip(cv.split(X_train, y_train_scaled), range(8)):\n",
    "    y_pred1 = model1.predict(X_test)\n",
    "    y_pred2 = model2.predict(X_test)\n",
    "    y_pred3 = model3.predict(X_test)\n",
    "    print (metrics.mean_squared_error(y_test_scaled, y_pred1))\n",
    "    print (metrics.mean_squared_error(y_test_scaled, y_pred2))\n",
    "    print (metrics.mean_squared_error(y_test_scaled, y_pred3))\n",
    "    print(\"*******************************************************\")\n",
    "    "
   ]
  },
  {
   "cell_type": "code",
   "execution_count": 39,
   "metadata": {},
   "outputs": [
    {
     "name": "stdout",
     "output_type": "stream",
     "text": [
      "Model: Random Forest\n",
      "Mse:\n",
      "  Mean: -0.08536714810081684\n",
      "===================================\n",
      "R2:\n",
      "  Mean: 0.9813948561686872\n",
      "===================================\n",
      "Mae:\n",
      "  Mean: -0.10142037759264515\n",
      "===================================\n",
      "\n",
      "\n",
      "Model: XGB\n",
      "Mse:\n",
      "  Mean: -0.06494415389896299\n",
      "===================================\n",
      "R2:\n",
      "  Mean: 0.9863222708322539\n",
      "===================================\n",
      "Mae:\n",
      "  Mean: -0.07837734203560152\n",
      "===================================\n",
      "\n",
      "\n",
      "Model: Gradient Boosting\n",
      "Mse:\n",
      "  Mean: -0.09167382324518371\n",
      "===================================\n",
      "R2:\n",
      "  Mean: 0.9800075711477317\n",
      "===================================\n",
      "Mae:\n",
      "  Mean: -0.13319755307872785\n",
      "===================================\n",
      "\n",
      "\n"
     ]
    }
   ],
   "source": [
    "# Define the models you want to evaluate\n",
    "models = {\n",
    "    \"Random Forest\": RandomForestRegressor(),\n",
    "    \"XGB\": XGBRegressor(),\n",
    "    \"Gradient Boosting\": GradientBoostingRegressor()\n",
    "}\n",
    "\n",
    "# Define the scoring metrics as individual strings\n",
    "scoring = {\n",
    "    'mse': make_scorer(mean_squared_error, greater_is_better=False),\n",
    "    'r2': 'r2',\n",
    "    'mae': make_scorer(mean_absolute_error, greater_is_better=False)\n",
    "}\n",
    "\n",
    "# Loop through each model and perform cross-validation\n",
    "for model_name, model in models.items():\n",
    "    print(f\"Model: {model_name}\")\n",
    "    \n",
    "    # Separate dataset into train and test\n",
    "    X_train, X_test, y_train, y_test = train_test_split(X_transformed, y_transformed,test_size=0.2, random_state=42)\n",
    "    \n",
    "    # Fit the model\n",
    "    model.fit(X_train, y_train)\n",
    "  \n",
    "    # Make predictions\n",
    "    y_train_pred = model.predict(X_train)\n",
    "    y_test_pred = model.predict(X_test)\n",
    "    \n",
    "    # Calculate scores using cross-validation\n",
    "    for metric_name, metric_func in scoring.items():\n",
    "        print(f\"{metric_name.capitalize()}:\")\n",
    "        \n",
    "        # Perform cross-validation and calculate the mean score\n",
    "        scores = cross_val_score(model, X_train, y_train, cv=5, scoring=metric_func)\n",
    "        mean_score = scores.mean()\n",
    "        print(\"  Mean:\", mean_score)        \n",
    "        print(\"=\"*35)\n",
    "    print(\"\\n\")"
   ]
  },
  {
   "cell_type": "markdown",
   "metadata": {},
   "source": [
    "After cross validation XGB Regressor is performing well "
   ]
  },
  {
   "cell_type": "markdown",
   "metadata": {},
   "source": [
    "Exeperiment NO2 : Simple Imputer by median + Robust Scaler-->Numeric data ,missing_value by constant ,one hot encoding -->categorical data\n",
    "\n",
    "* Why not min_max scaler or StandardScaler ?\n",
    "Since our data is not normaley distributed and numeric data has so many outlier robust scaler will treat outlier \n",
    "\n"
   ]
  },
  {
   "cell_type": "code",
   "execution_count": 40,
   "metadata": {},
   "outputs": [],
   "source": [
    "x=df.drop('Line_Item_Value',axis=1)\n",
    "y=df['Line_Item_Value']"
   ]
  },
  {
   "cell_type": "code",
   "execution_count": 41,
   "metadata": {},
   "outputs": [],
   "source": [
    "numerical_transformer = Pipeline(steps=[\n",
    "    ('imputer', SimpleImputer(strategy='median')),\n",
    "    ('scaler', RobustScaler())])"
   ]
  },
  {
   "cell_type": "code",
   "execution_count": 42,
   "metadata": {},
   "outputs": [],
   "source": [
    "# Create transformers for categorical and numerical features\n",
    "categorical_transformer = Pipeline(steps=[\n",
    "    ('imputer', SimpleImputer(strategy='constant', fill_value='missing')),\n",
    "    ('onehot', OneHotEncoder(drop='first',handle_unknown='ignore'))\n",
    "])"
   ]
  },
  {
   "cell_type": "code",
   "execution_count": 43,
   "metadata": {},
   "outputs": [],
   "source": [
    "# Combine transformers using ColumnTransformer\n",
    "preprocessor = ColumnTransformer(\n",
    "    transformers=[\n",
    "        ('cat', categorical_transformer, cat_features),\n",
    "        ('num', numerical_transformer, num_features)\n",
    "    ])"
   ]
  },
  {
   "cell_type": "code",
   "execution_count": 44,
   "metadata": {},
   "outputs": [],
   "source": [
    "# Create the final pipeline\n",
    "pipeline = Pipeline(steps=[\n",
    "    ('preprocessor', preprocessor)\n",
    "])"
   ]
  },
  {
   "cell_type": "code",
   "execution_count": 45,
   "metadata": {},
   "outputs": [],
   "source": [
    "scaler=RobustScaler()"
   ]
  },
  {
   "cell_type": "code",
   "execution_count": 46,
   "metadata": {},
   "outputs": [],
   "source": [
    "# Reshape the target variable to fit the scaler's input format\n",
    "y = y.values.reshape(-1, 1)"
   ]
  },
  {
   "cell_type": "code",
   "execution_count": 47,
   "metadata": {},
   "outputs": [],
   "source": [
    "# Fit and transform the target variable\n",
    "y_transformed = scaler.fit_transform(y)"
   ]
  },
  {
   "cell_type": "code",
   "execution_count": 48,
   "metadata": {},
   "outputs": [],
   "source": [
    "# Reshape back to a 1D array\n",
    "y_transformed = y_transformed.flatten()"
   ]
  },
  {
   "cell_type": "code",
   "execution_count": 49,
   "metadata": {},
   "outputs": [],
   "source": [
    "# Fit and transform the data\n",
    "X_transformed_2 = pipeline.fit_transform(x)"
   ]
  },
  {
   "cell_type": "code",
   "execution_count": 50,
   "metadata": {},
   "outputs": [],
   "source": [
    "# Dictionary which contains models for experiment\n",
    "models_list = {\n",
    "    \"Random Forest\": RandomForestRegressor(),\n",
    "    \"Decision Tree\": DecisionTreeRegressor(),\n",
    "    \"Gradient Boosting\": GradientBoostingRegressor(),\n",
    "     \"K-Neighbors Regressor\": KNeighborsRegressor(),\n",
    "    \"XGBRegressor\": XGBRegressor(), \n",
    "    \"AdaBoost Regressor\": AdaBoostRegressor(),\n",
    "    'LinearRegression':LinearRegression(),\n",
    "    'LassoCV':LassoCV()\n",
    "}\n"
   ]
  },
  {
   "cell_type": "code",
   "execution_count": 51,
   "metadata": {},
   "outputs": [
    {
     "name": "stdout",
     "output_type": "stream",
     "text": [
      "Random Forest\n",
      "Model performance for Training set\n",
      "- MSE: 0.0110\n",
      "- R2_score: 0.9977\n",
      "- Adjusted R2 Score: 0.9977\n",
      "----------------------------------\n",
      "Model performance for Test set\n",
      "- MSE: 0.0518\n",
      "- R2_score: 0.9873\n",
      "- Adjusted R2 Score: 0.9873\n",
      "===================================\n",
      "\n",
      "\n",
      "Decision Tree\n",
      "Model performance for Training set\n",
      "- MSE: 0.0000\n",
      "- R2_score: 1.0000\n",
      "- Adjusted R2 Score: 1.0000\n",
      "----------------------------------\n",
      "Model performance for Test set\n",
      "- MSE: 0.1555\n",
      "- R2_score: 0.9619\n",
      "- Adjusted R2 Score: 0.9619\n",
      "===================================\n",
      "\n",
      "\n",
      "Gradient Boosting\n",
      "Model performance for Training set\n",
      "- MSE: 0.0435\n",
      "- R2_score: 0.9907\n",
      "- Adjusted R2 Score: 0.9907\n",
      "----------------------------------\n",
      "Model performance for Test set\n",
      "- MSE: 0.0706\n",
      "- R2_score: 0.9827\n",
      "- Adjusted R2 Score: 0.9827\n",
      "===================================\n",
      "\n",
      "\n",
      "K-Neighbors Regressor\n",
      "Model performance for Training set\n",
      "- MSE: 0.1690\n",
      "- R2_score: 0.9639\n",
      "- Adjusted R2 Score: 0.9639\n",
      "----------------------------------\n",
      "Model performance for Test set\n",
      "- MSE: 0.1761\n",
      "- R2_score: 0.9568\n",
      "- Adjusted R2 Score: 0.9568\n",
      "===================================\n",
      "\n",
      "\n",
      "XGBRegressor\n",
      "Model performance for Training set\n",
      "- MSE: 0.0009\n",
      "- R2_score: 0.9998\n",
      "- Adjusted R2 Score: 0.9998\n",
      "----------------------------------\n",
      "Model performance for Test set\n",
      "- MSE: 0.0571\n",
      "- R2_score: 0.9860\n",
      "- Adjusted R2 Score: 0.9860\n",
      "===================================\n",
      "\n",
      "\n",
      "AdaBoost Regressor\n",
      "Model performance for Training set\n",
      "- MSE: 1.5895\n",
      "- R2_score: 0.6602\n",
      "- Adjusted R2 Score: 0.6602\n",
      "----------------------------------\n",
      "Model performance for Test set\n",
      "- MSE: 1.6410\n",
      "- R2_score: 0.5978\n",
      "- Adjusted R2 Score: 0.5976\n",
      "===================================\n",
      "\n",
      "\n",
      "LinearRegression\n",
      "Model performance for Training set\n",
      "- MSE: 0.2730\n",
      "- R2_score: 0.9416\n",
      "- Adjusted R2 Score: 0.9416\n",
      "----------------------------------\n",
      "Model performance for Test set\n",
      "- MSE: 0.2726\n",
      "- R2_score: 0.9332\n",
      "- Adjusted R2 Score: 0.9332\n",
      "===================================\n",
      "\n",
      "\n",
      "LassoCV\n",
      "Model performance for Training set\n",
      "- MSE: 0.2787\n",
      "- R2_score: 0.9404\n",
      "- Adjusted R2 Score: 0.9404\n",
      "----------------------------------\n",
      "Model performance for Test set\n",
      "- MSE: 0.2839\n",
      "- R2_score: 0.9304\n",
      "- Adjusted R2 Score: 0.9304\n",
      "===================================\n",
      "\n",
      "\n"
     ]
    },
    {
     "data": {
      "text/html": [
       "<div>\n",
       "<style scoped>\n",
       "    .dataframe tbody tr th:only-of-type {\n",
       "        vertical-align: middle;\n",
       "    }\n",
       "\n",
       "    .dataframe tbody tr th {\n",
       "        vertical-align: top;\n",
       "    }\n",
       "\n",
       "    .dataframe thead th {\n",
       "        text-align: right;\n",
       "    }\n",
       "</style>\n",
       "<table border=\"1\" class=\"dataframe\">\n",
       "  <thead>\n",
       "    <tr style=\"text-align: right;\">\n",
       "      <th></th>\n",
       "      <th>Model Name</th>\n",
       "      <th>Train_MSE</th>\n",
       "      <th>Train_R2</th>\n",
       "      <th>Train_Adjusted_r2</th>\n",
       "      <th>Test_MSE</th>\n",
       "      <th>Test_R2</th>\n",
       "      <th>Test_Adjusted_R2</th>\n",
       "    </tr>\n",
       "  </thead>\n",
       "  <tbody>\n",
       "    <tr>\n",
       "      <th>0</th>\n",
       "      <td>Random Forest</td>\n",
       "      <td>1.097248e-02</td>\n",
       "      <td>0.997654</td>\n",
       "      <td>0.997654</td>\n",
       "      <td>0.051842</td>\n",
       "      <td>0.987293</td>\n",
       "      <td>0.987287</td>\n",
       "    </tr>\n",
       "    <tr>\n",
       "      <th>4</th>\n",
       "      <td>XGBRegressor</td>\n",
       "      <td>8.944796e-04</td>\n",
       "      <td>0.999809</td>\n",
       "      <td>0.999809</td>\n",
       "      <td>0.057150</td>\n",
       "      <td>0.985992</td>\n",
       "      <td>0.985985</td>\n",
       "    </tr>\n",
       "    <tr>\n",
       "      <th>2</th>\n",
       "      <td>Gradient Boosting</td>\n",
       "      <td>4.353714e-02</td>\n",
       "      <td>0.990693</td>\n",
       "      <td>0.990692</td>\n",
       "      <td>0.070581</td>\n",
       "      <td>0.982700</td>\n",
       "      <td>0.982692</td>\n",
       "    </tr>\n",
       "    <tr>\n",
       "      <th>1</th>\n",
       "      <td>Decision Tree</td>\n",
       "      <td>3.240946e-34</td>\n",
       "      <td>1.000000</td>\n",
       "      <td>1.000000</td>\n",
       "      <td>0.155493</td>\n",
       "      <td>0.961888</td>\n",
       "      <td>0.961869</td>\n",
       "    </tr>\n",
       "    <tr>\n",
       "      <th>3</th>\n",
       "      <td>K-Neighbors Regressor</td>\n",
       "      <td>1.689510e-01</td>\n",
       "      <td>0.963884</td>\n",
       "      <td>0.963879</td>\n",
       "      <td>0.176146</td>\n",
       "      <td>0.956826</td>\n",
       "      <td>0.956804</td>\n",
       "    </tr>\n",
       "    <tr>\n",
       "      <th>6</th>\n",
       "      <td>LinearRegression</td>\n",
       "      <td>2.729632e-01</td>\n",
       "      <td>0.941649</td>\n",
       "      <td>0.941642</td>\n",
       "      <td>0.272586</td>\n",
       "      <td>0.933187</td>\n",
       "      <td>0.933155</td>\n",
       "    </tr>\n",
       "    <tr>\n",
       "      <th>7</th>\n",
       "      <td>LassoCV</td>\n",
       "      <td>2.787223e-01</td>\n",
       "      <td>0.940418</td>\n",
       "      <td>0.940411</td>\n",
       "      <td>0.283891</td>\n",
       "      <td>0.930417</td>\n",
       "      <td>0.930383</td>\n",
       "    </tr>\n",
       "    <tr>\n",
       "      <th>5</th>\n",
       "      <td>AdaBoost Regressor</td>\n",
       "      <td>1.589517e+00</td>\n",
       "      <td>0.660211</td>\n",
       "      <td>0.660170</td>\n",
       "      <td>1.641028</td>\n",
       "      <td>0.597773</td>\n",
       "      <td>0.597577</td>\n",
       "    </tr>\n",
       "  </tbody>\n",
       "</table>\n",
       "</div>"
      ],
      "text/plain": [
       "              Model Name     Train_MSE  Train_R2  Train_Adjusted_r2  Test_MSE  \\\n",
       "0          Random Forest  1.097248e-02  0.997654           0.997654  0.051842   \n",
       "4           XGBRegressor  8.944796e-04  0.999809           0.999809  0.057150   \n",
       "2      Gradient Boosting  4.353714e-02  0.990693           0.990692  0.070581   \n",
       "1          Decision Tree  3.240946e-34  1.000000           1.000000  0.155493   \n",
       "3  K-Neighbors Regressor  1.689510e-01  0.963884           0.963879  0.176146   \n",
       "6       LinearRegression  2.729632e-01  0.941649           0.941642  0.272586   \n",
       "7                LassoCV  2.787223e-01  0.940418           0.940411  0.283891   \n",
       "5     AdaBoost Regressor  1.589517e+00  0.660211           0.660170  1.641028   \n",
       "\n",
       "    Test_R2  Test_Adjusted_R2  \n",
       "0  0.987293          0.987287  \n",
       "4  0.985992          0.985985  \n",
       "2  0.982700          0.982692  \n",
       "1  0.961888          0.961869  \n",
       "3  0.956826          0.956804  \n",
       "6  0.933187          0.933155  \n",
       "7  0.930417          0.930383  \n",
       "5  0.597773          0.597577  "
      ]
     },
     "execution_count": 51,
     "metadata": {},
     "output_type": "execute_result"
    }
   ],
   "source": [
    "report2=evaluate_models(X_transformed_2,y_transformed,models_list)\n",
    "report2"
   ]
  },
  {
   "cell_type": "markdown",
   "metadata": {},
   "source": [
    "Lets do cross validation for above models "
   ]
  },
  {
   "cell_type": "code",
   "execution_count": 52,
   "metadata": {},
   "outputs": [
    {
     "name": "stdout",
     "output_type": "stream",
     "text": [
      "Model: Random Forest\n",
      "Mse:\n",
      "  Mean: -0.0888492916635406\n",
      "===================================\n",
      "R2:\n",
      "  Mean: 0.9812742678784385\n",
      "===================================\n",
      "Mae:\n",
      "  Mean: -0.10177665186459242\n",
      "===================================\n",
      "\n",
      "\n",
      "Model: XGB\n",
      "Mse:\n",
      "  Mean: -0.06525044853809378\n",
      "===================================\n",
      "R2:\n",
      "  Mean: 0.9862415725035799\n",
      "===================================\n",
      "Mae:\n",
      "  Mean: -0.07859298072569401\n",
      "===================================\n",
      "\n",
      "\n",
      "Model: Gradient Boosting\n",
      "Mse:\n",
      "  Mean: -0.09148292804675252\n",
      "===================================\n",
      "R2:\n",
      "  Mean: 0.9799634380064507\n",
      "===================================\n",
      "Mae:\n",
      "  Mean: -0.13318302752098546\n",
      "===================================\n",
      "\n",
      "\n"
     ]
    }
   ],
   "source": [
    "# Define the models you want to evaluate\n",
    "models = {\n",
    "    \"Random Forest\": RandomForestRegressor(),\n",
    "    \"XGB\": XGBRegressor(),\n",
    "    \"Gradient Boosting\": GradientBoostingRegressor()\n",
    "}\n",
    "\n",
    "# Define the scoring metrics as individual strings\n",
    "scoring = {\n",
    "    'mse': make_scorer(mean_squared_error, greater_is_better=False),\n",
    "    'r2': 'r2',\n",
    "    'mae': make_scorer(mean_absolute_error, greater_is_better=False)\n",
    "}\n",
    "\n",
    "# Loop through each model and perform cross-validation\n",
    "for model_name, model in models.items():\n",
    "    print(f\"Model: {model_name}\")\n",
    "    \n",
    "    # Separate dataset into train and test\n",
    "    X_train, X_test, y_train, y_test = train_test_split(X_transformed_2, y_transformed,test_size=0.2, random_state=42)\n",
    "    \n",
    "    # Fit the model\n",
    "    model.fit(X_train, y_train)\n",
    "  \n",
    "    # Make predictions\n",
    "    y_train_pred = model.predict(X_train)\n",
    "    y_test_pred = model.predict(X_test)\n",
    "    \n",
    "    # Calculate scores using cross-validation\n",
    "    for metric_name, metric_func in scoring.items():\n",
    "        print(f\"{metric_name.capitalize()}:\")\n",
    "        \n",
    "        # Perform cross-validation and calculate the mean score\n",
    "        scores = cross_val_score(model, X_train, y_train, cv=5, scoring=metric_func)\n",
    "        mean_score = scores.mean()\n",
    "        print(\"  Mean:\", mean_score)        \n",
    "        print(\"=\"*35)\n",
    "    print(\"\\n\")"
   ]
  },
  {
   "cell_type": "markdown",
   "metadata": {},
   "source": [
    "# Final Model\n",
    "\n",
    "* After cross validation XGBRegressor is performing well"
   ]
  },
  {
   "cell_type": "code",
   "execution_count": 35,
   "metadata": {},
   "outputs": [
    {
     "data": {
      "text/html": [
       "<div>\n",
       "<style scoped>\n",
       "    .dataframe tbody tr th:only-of-type {\n",
       "        vertical-align: middle;\n",
       "    }\n",
       "\n",
       "    .dataframe tbody tr th {\n",
       "        vertical-align: top;\n",
       "    }\n",
       "\n",
       "    .dataframe thead th {\n",
       "        text-align: right;\n",
       "    }\n",
       "</style>\n",
       "<table border=\"1\" class=\"dataframe\">\n",
       "  <thead>\n",
       "    <tr style=\"text-align: right;\">\n",
       "      <th></th>\n",
       "      <th>PO_/_SO_#</th>\n",
       "      <th>ASN/DN_#</th>\n",
       "      <th>Country</th>\n",
       "      <th>Fulfill_Via</th>\n",
       "      <th>Vendor_INCO_Term</th>\n",
       "      <th>Shipment_Mode</th>\n",
       "      <th>Sub_Classification</th>\n",
       "      <th>Unit_of_Measure_(Per_Pack)</th>\n",
       "      <th>Line_Item_Quantity</th>\n",
       "      <th>Pack_Price</th>\n",
       "      <th>Unit_Price</th>\n",
       "      <th>First_Line_Designation</th>\n",
       "      <th>Weight_(Kilograms)</th>\n",
       "      <th>Freight_Cost_(USD)</th>\n",
       "      <th>Line_Item_Insurance_(USD)</th>\n",
       "      <th>Days_to_Process</th>\n",
       "    </tr>\n",
       "  </thead>\n",
       "  <tbody>\n",
       "    <tr>\n",
       "      <th>0</th>\n",
       "      <td>SCMS</td>\n",
       "      <td>ASN</td>\n",
       "      <td>Côte d'Ivoire</td>\n",
       "      <td>Direct Drop</td>\n",
       "      <td>EXW</td>\n",
       "      <td>Air</td>\n",
       "      <td>HIV test</td>\n",
       "      <td>30</td>\n",
       "      <td>19</td>\n",
       "      <td>29.00</td>\n",
       "      <td>0.97</td>\n",
       "      <td>Yes</td>\n",
       "      <td>13.0</td>\n",
       "      <td>780.34</td>\n",
       "      <td>NaN</td>\n",
       "      <td>-947</td>\n",
       "    </tr>\n",
       "    <tr>\n",
       "      <th>1</th>\n",
       "      <td>SCMS</td>\n",
       "      <td>ASN</td>\n",
       "      <td>Vietnam</td>\n",
       "      <td>Direct Drop</td>\n",
       "      <td>EXW</td>\n",
       "      <td>Air</td>\n",
       "      <td>Pediatric</td>\n",
       "      <td>240</td>\n",
       "      <td>1000</td>\n",
       "      <td>6.20</td>\n",
       "      <td>0.03</td>\n",
       "      <td>Yes</td>\n",
       "      <td>358.0</td>\n",
       "      <td>4521.50</td>\n",
       "      <td>NaN</td>\n",
       "      <td>-782</td>\n",
       "    </tr>\n",
       "    <tr>\n",
       "      <th>2</th>\n",
       "      <td>SCMS</td>\n",
       "      <td>ASN</td>\n",
       "      <td>Côte d'Ivoire</td>\n",
       "      <td>Direct Drop</td>\n",
       "      <td>FCA</td>\n",
       "      <td>Air</td>\n",
       "      <td>HIV test</td>\n",
       "      <td>100</td>\n",
       "      <td>500</td>\n",
       "      <td>80.00</td>\n",
       "      <td>0.80</td>\n",
       "      <td>Yes</td>\n",
       "      <td>171.0</td>\n",
       "      <td>1653.78</td>\n",
       "      <td>NaN</td>\n",
       "      <td>-861</td>\n",
       "    </tr>\n",
       "    <tr>\n",
       "      <th>3</th>\n",
       "      <td>SCMS</td>\n",
       "      <td>ASN</td>\n",
       "      <td>Vietnam</td>\n",
       "      <td>Direct Drop</td>\n",
       "      <td>EXW</td>\n",
       "      <td>Air</td>\n",
       "      <td>Adult</td>\n",
       "      <td>60</td>\n",
       "      <td>31920</td>\n",
       "      <td>3.99</td>\n",
       "      <td>0.07</td>\n",
       "      <td>Yes</td>\n",
       "      <td>1855.0</td>\n",
       "      <td>16007.06</td>\n",
       "      <td>NaN</td>\n",
       "      <td>-856</td>\n",
       "    </tr>\n",
       "    <tr>\n",
       "      <th>4</th>\n",
       "      <td>SCMS</td>\n",
       "      <td>ASN</td>\n",
       "      <td>Vietnam</td>\n",
       "      <td>Direct Drop</td>\n",
       "      <td>EXW</td>\n",
       "      <td>Air</td>\n",
       "      <td>Adult</td>\n",
       "      <td>60</td>\n",
       "      <td>38000</td>\n",
       "      <td>3.20</td>\n",
       "      <td>0.05</td>\n",
       "      <td>Yes</td>\n",
       "      <td>7590.0</td>\n",
       "      <td>45450.08</td>\n",
       "      <td>NaN</td>\n",
       "      <td>-877</td>\n",
       "    </tr>\n",
       "  </tbody>\n",
       "</table>\n",
       "</div>"
      ],
      "text/plain": [
       "  PO_/_SO_# ASN/DN_#        Country  Fulfill_Via Vendor_INCO_Term  \\\n",
       "0      SCMS      ASN  Côte d'Ivoire  Direct Drop              EXW   \n",
       "1      SCMS      ASN        Vietnam  Direct Drop              EXW   \n",
       "2      SCMS      ASN  Côte d'Ivoire  Direct Drop              FCA   \n",
       "3      SCMS      ASN        Vietnam  Direct Drop              EXW   \n",
       "4      SCMS      ASN        Vietnam  Direct Drop              EXW   \n",
       "\n",
       "  Shipment_Mode Sub_Classification  Unit_of_Measure_(Per_Pack)  \\\n",
       "0           Air           HIV test                          30   \n",
       "1           Air          Pediatric                         240   \n",
       "2           Air           HIV test                         100   \n",
       "3           Air              Adult                          60   \n",
       "4           Air              Adult                          60   \n",
       "\n",
       "   Line_Item_Quantity  Pack_Price  Unit_Price First_Line_Designation  \\\n",
       "0                  19       29.00        0.97                    Yes   \n",
       "1                1000        6.20        0.03                    Yes   \n",
       "2                 500       80.00        0.80                    Yes   \n",
       "3               31920        3.99        0.07                    Yes   \n",
       "4               38000        3.20        0.05                    Yes   \n",
       "\n",
       "   Weight_(Kilograms)  Freight_Cost_(USD)  Line_Item_Insurance_(USD)  \\\n",
       "0                13.0              780.34                        NaN   \n",
       "1               358.0             4521.50                        NaN   \n",
       "2               171.0             1653.78                        NaN   \n",
       "3              1855.0            16007.06                        NaN   \n",
       "4              7590.0            45450.08                        NaN   \n",
       "\n",
       "   Days_to_Process  \n",
       "0             -947  \n",
       "1             -782  \n",
       "2             -861  \n",
       "3             -856  \n",
       "4             -877  "
      ]
     },
     "execution_count": 35,
     "metadata": {},
     "output_type": "execute_result"
    }
   ],
   "source": [
    "x.head()"
   ]
  },
  {
   "cell_type": "code",
   "execution_count": 36,
   "metadata": {},
   "outputs": [],
   "source": [
    "y=df['Line_Item_Value']"
   ]
  },
  {
   "cell_type": "code",
   "execution_count": 37,
   "metadata": {},
   "outputs": [],
   "source": [
    "y = y.values.reshape(-1, 1)"
   ]
  },
  {
   "cell_type": "code",
   "execution_count": 38,
   "metadata": {},
   "outputs": [],
   "source": [
    "y_transformed=scaler.fit_transform(y)"
   ]
  },
  {
   "cell_type": "code",
   "execution_count": 39,
   "metadata": {},
   "outputs": [],
   "source": [
    "y_transformed=y_transformed.flatten()"
   ]
  },
  {
   "cell_type": "code",
   "execution_count": 44,
   "metadata": {},
   "outputs": [],
   "source": [
    "y_final=y_transformed"
   ]
  },
  {
   "cell_type": "code",
   "execution_count": 45,
   "metadata": {},
   "outputs": [
    {
     "data": {
      "text/html": [
       "<style>#sk-container-id-2 {color: black;}#sk-container-id-2 pre{padding: 0;}#sk-container-id-2 div.sk-toggleable {background-color: white;}#sk-container-id-2 label.sk-toggleable__label {cursor: pointer;display: block;width: 100%;margin-bottom: 0;padding: 0.3em;box-sizing: border-box;text-align: center;}#sk-container-id-2 label.sk-toggleable__label-arrow:before {content: \"▸\";float: left;margin-right: 0.25em;color: #696969;}#sk-container-id-2 label.sk-toggleable__label-arrow:hover:before {color: black;}#sk-container-id-2 div.sk-estimator:hover label.sk-toggleable__label-arrow:before {color: black;}#sk-container-id-2 div.sk-toggleable__content {max-height: 0;max-width: 0;overflow: hidden;text-align: left;background-color: #f0f8ff;}#sk-container-id-2 div.sk-toggleable__content pre {margin: 0.2em;color: black;border-radius: 0.25em;background-color: #f0f8ff;}#sk-container-id-2 input.sk-toggleable__control:checked~div.sk-toggleable__content {max-height: 200px;max-width: 100%;overflow: auto;}#sk-container-id-2 input.sk-toggleable__control:checked~label.sk-toggleable__label-arrow:before {content: \"▾\";}#sk-container-id-2 div.sk-estimator input.sk-toggleable__control:checked~label.sk-toggleable__label {background-color: #d4ebff;}#sk-container-id-2 div.sk-label input.sk-toggleable__control:checked~label.sk-toggleable__label {background-color: #d4ebff;}#sk-container-id-2 input.sk-hidden--visually {border: 0;clip: rect(1px 1px 1px 1px);clip: rect(1px, 1px, 1px, 1px);height: 1px;margin: -1px;overflow: hidden;padding: 0;position: absolute;width: 1px;}#sk-container-id-2 div.sk-estimator {font-family: monospace;background-color: #f0f8ff;border: 1px dotted black;border-radius: 0.25em;box-sizing: border-box;margin-bottom: 0.5em;}#sk-container-id-2 div.sk-estimator:hover {background-color: #d4ebff;}#sk-container-id-2 div.sk-parallel-item::after {content: \"\";width: 100%;border-bottom: 1px solid gray;flex-grow: 1;}#sk-container-id-2 div.sk-label:hover label.sk-toggleable__label {background-color: #d4ebff;}#sk-container-id-2 div.sk-serial::before {content: \"\";position: absolute;border-left: 1px solid gray;box-sizing: border-box;top: 0;bottom: 0;left: 50%;z-index: 0;}#sk-container-id-2 div.sk-serial {display: flex;flex-direction: column;align-items: center;background-color: white;padding-right: 0.2em;padding-left: 0.2em;position: relative;}#sk-container-id-2 div.sk-item {position: relative;z-index: 1;}#sk-container-id-2 div.sk-parallel {display: flex;align-items: stretch;justify-content: center;background-color: white;position: relative;}#sk-container-id-2 div.sk-item::before, #sk-container-id-2 div.sk-parallel-item::before {content: \"\";position: absolute;border-left: 1px solid gray;box-sizing: border-box;top: 0;bottom: 0;left: 50%;z-index: -1;}#sk-container-id-2 div.sk-parallel-item {display: flex;flex-direction: column;z-index: 1;position: relative;background-color: white;}#sk-container-id-2 div.sk-parallel-item:first-child::after {align-self: flex-end;width: 50%;}#sk-container-id-2 div.sk-parallel-item:last-child::after {align-self: flex-start;width: 50%;}#sk-container-id-2 div.sk-parallel-item:only-child::after {width: 0;}#sk-container-id-2 div.sk-dashed-wrapped {border: 1px dashed gray;margin: 0 0.4em 0.5em 0.4em;box-sizing: border-box;padding-bottom: 0.4em;background-color: white;}#sk-container-id-2 div.sk-label label {font-family: monospace;font-weight: bold;display: inline-block;line-height: 1.2em;}#sk-container-id-2 div.sk-label-container {text-align: center;}#sk-container-id-2 div.sk-container {/* jupyter's `normalize.less` sets `[hidden] { display: none; }` but bootstrap.min.css set `[hidden] { display: none !important; }` so we also need the `!important` here to be able to override the default hidden behavior on the sphinx rendered scikit-learn.org. See: https://github.com/scikit-learn/scikit-learn/issues/21755 */display: inline-block !important;position: relative;}#sk-container-id-2 div.sk-text-repr-fallback {display: none;}</style><div id=\"sk-container-id-2\" class=\"sk-top-container\"><div class=\"sk-text-repr-fallback\"><pre>Pipeline(steps=[(&#x27;preprocessor&#x27;,\n",
       "                 ColumnTransformer(transformers=[(&#x27;cat&#x27;,\n",
       "                                                  Pipeline(steps=[(&#x27;imputer&#x27;,\n",
       "                                                                   SimpleImputer(fill_value=&#x27;missing&#x27;,\n",
       "                                                                                 strategy=&#x27;most_frequent&#x27;)),\n",
       "                                                                  (&#x27;onehot&#x27;,\n",
       "                                                                   OneHotEncoder(drop=&#x27;first&#x27;,\n",
       "                                                                                 handle_unknown=&#x27;ignore&#x27;))]),\n",
       "                                                  [&#x27;PO_/_SO_#&#x27;, &#x27;ASN/DN_#&#x27;,\n",
       "                                                   &#x27;Country&#x27;, &#x27;Fulfill_Via&#x27;,\n",
       "                                                   &#x27;Vendor_INCO_Term&#x27;,\n",
       "                                                   &#x27;Shipment_Mode&#x27;,\n",
       "                                                   &#x27;Sub_Classification&#x27;,\n",
       "                                                   &#x27;First_Line_Designation&#x27;]),\n",
       "                                                 (&#x27;num&#x27;,\n",
       "                                                  Pipeline(steps=[(&#x27;imputer&#x27;,\n",
       "                                                                   SimpleImputer(strategy=&#x27;median&#x27;)),\n",
       "                                                                  (&#x27;scaler&#x27;,\n",
       "                                                                   RobustScaler())]),\n",
       "                                                  [&#x27;Unit_of_Measure_(Per_Pack)&#x27;,\n",
       "                                                   &#x27;Line_Item_Quantity&#x27;,\n",
       "                                                   &#x27;Pack_Price&#x27;, &#x27;Unit_Price&#x27;,\n",
       "                                                   &#x27;Weight_(Kilograms)&#x27;,\n",
       "                                                   &#x27;Freight_Cost_(USD)&#x27;,\n",
       "                                                   &#x27;Line_Item_Insurance_(USD)&#x27;,\n",
       "                                                   &#x27;Days_to_Process&#x27;])]))])</pre><b>In a Jupyter environment, please rerun this cell to show the HTML representation or trust the notebook. <br />On GitHub, the HTML representation is unable to render, please try loading this page with nbviewer.org.</b></div><div class=\"sk-container\" hidden><div class=\"sk-item sk-dashed-wrapped\"><div class=\"sk-label-container\"><div class=\"sk-label sk-toggleable\"><input class=\"sk-toggleable__control sk-hidden--visually\" id=\"sk-estimator-id-9\" type=\"checkbox\" ><label for=\"sk-estimator-id-9\" class=\"sk-toggleable__label sk-toggleable__label-arrow\">Pipeline</label><div class=\"sk-toggleable__content\"><pre>Pipeline(steps=[(&#x27;preprocessor&#x27;,\n",
       "                 ColumnTransformer(transformers=[(&#x27;cat&#x27;,\n",
       "                                                  Pipeline(steps=[(&#x27;imputer&#x27;,\n",
       "                                                                   SimpleImputer(fill_value=&#x27;missing&#x27;,\n",
       "                                                                                 strategy=&#x27;most_frequent&#x27;)),\n",
       "                                                                  (&#x27;onehot&#x27;,\n",
       "                                                                   OneHotEncoder(drop=&#x27;first&#x27;,\n",
       "                                                                                 handle_unknown=&#x27;ignore&#x27;))]),\n",
       "                                                  [&#x27;PO_/_SO_#&#x27;, &#x27;ASN/DN_#&#x27;,\n",
       "                                                   &#x27;Country&#x27;, &#x27;Fulfill_Via&#x27;,\n",
       "                                                   &#x27;Vendor_INCO_Term&#x27;,\n",
       "                                                   &#x27;Shipment_Mode&#x27;,\n",
       "                                                   &#x27;Sub_Classification&#x27;,\n",
       "                                                   &#x27;First_Line_Designation&#x27;]),\n",
       "                                                 (&#x27;num&#x27;,\n",
       "                                                  Pipeline(steps=[(&#x27;imputer&#x27;,\n",
       "                                                                   SimpleImputer(strategy=&#x27;median&#x27;)),\n",
       "                                                                  (&#x27;scaler&#x27;,\n",
       "                                                                   RobustScaler())]),\n",
       "                                                  [&#x27;Unit_of_Measure_(Per_Pack)&#x27;,\n",
       "                                                   &#x27;Line_Item_Quantity&#x27;,\n",
       "                                                   &#x27;Pack_Price&#x27;, &#x27;Unit_Price&#x27;,\n",
       "                                                   &#x27;Weight_(Kilograms)&#x27;,\n",
       "                                                   &#x27;Freight_Cost_(USD)&#x27;,\n",
       "                                                   &#x27;Line_Item_Insurance_(USD)&#x27;,\n",
       "                                                   &#x27;Days_to_Process&#x27;])]))])</pre></div></div></div><div class=\"sk-serial\"><div class=\"sk-item sk-dashed-wrapped\"><div class=\"sk-label-container\"><div class=\"sk-label sk-toggleable\"><input class=\"sk-toggleable__control sk-hidden--visually\" id=\"sk-estimator-id-10\" type=\"checkbox\" ><label for=\"sk-estimator-id-10\" class=\"sk-toggleable__label sk-toggleable__label-arrow\">preprocessor: ColumnTransformer</label><div class=\"sk-toggleable__content\"><pre>ColumnTransformer(transformers=[(&#x27;cat&#x27;,\n",
       "                                 Pipeline(steps=[(&#x27;imputer&#x27;,\n",
       "                                                  SimpleImputer(fill_value=&#x27;missing&#x27;,\n",
       "                                                                strategy=&#x27;most_frequent&#x27;)),\n",
       "                                                 (&#x27;onehot&#x27;,\n",
       "                                                  OneHotEncoder(drop=&#x27;first&#x27;,\n",
       "                                                                handle_unknown=&#x27;ignore&#x27;))]),\n",
       "                                 [&#x27;PO_/_SO_#&#x27;, &#x27;ASN/DN_#&#x27;, &#x27;Country&#x27;,\n",
       "                                  &#x27;Fulfill_Via&#x27;, &#x27;Vendor_INCO_Term&#x27;,\n",
       "                                  &#x27;Shipment_Mode&#x27;, &#x27;Sub_Classification&#x27;,\n",
       "                                  &#x27;First_Line_Designation&#x27;]),\n",
       "                                (&#x27;num&#x27;,\n",
       "                                 Pipeline(steps=[(&#x27;imputer&#x27;,\n",
       "                                                  SimpleImputer(strategy=&#x27;median&#x27;)),\n",
       "                                                 (&#x27;scaler&#x27;, RobustScaler())]),\n",
       "                                 [&#x27;Unit_of_Measure_(Per_Pack)&#x27;,\n",
       "                                  &#x27;Line_Item_Quantity&#x27;, &#x27;Pack_Price&#x27;,\n",
       "                                  &#x27;Unit_Price&#x27;, &#x27;Weight_(Kilograms)&#x27;,\n",
       "                                  &#x27;Freight_Cost_(USD)&#x27;,\n",
       "                                  &#x27;Line_Item_Insurance_(USD)&#x27;,\n",
       "                                  &#x27;Days_to_Process&#x27;])])</pre></div></div></div><div class=\"sk-parallel\"><div class=\"sk-parallel-item\"><div class=\"sk-item\"><div class=\"sk-label-container\"><div class=\"sk-label sk-toggleable\"><input class=\"sk-toggleable__control sk-hidden--visually\" id=\"sk-estimator-id-11\" type=\"checkbox\" ><label for=\"sk-estimator-id-11\" class=\"sk-toggleable__label sk-toggleable__label-arrow\">cat</label><div class=\"sk-toggleable__content\"><pre>[&#x27;PO_/_SO_#&#x27;, &#x27;ASN/DN_#&#x27;, &#x27;Country&#x27;, &#x27;Fulfill_Via&#x27;, &#x27;Vendor_INCO_Term&#x27;, &#x27;Shipment_Mode&#x27;, &#x27;Sub_Classification&#x27;, &#x27;First_Line_Designation&#x27;]</pre></div></div></div><div class=\"sk-serial\"><div class=\"sk-item\"><div class=\"sk-serial\"><div class=\"sk-item\"><div class=\"sk-estimator sk-toggleable\"><input class=\"sk-toggleable__control sk-hidden--visually\" id=\"sk-estimator-id-12\" type=\"checkbox\" ><label for=\"sk-estimator-id-12\" class=\"sk-toggleable__label sk-toggleable__label-arrow\">SimpleImputer</label><div class=\"sk-toggleable__content\"><pre>SimpleImputer(fill_value=&#x27;missing&#x27;, strategy=&#x27;most_frequent&#x27;)</pre></div></div></div><div class=\"sk-item\"><div class=\"sk-estimator sk-toggleable\"><input class=\"sk-toggleable__control sk-hidden--visually\" id=\"sk-estimator-id-13\" type=\"checkbox\" ><label for=\"sk-estimator-id-13\" class=\"sk-toggleable__label sk-toggleable__label-arrow\">OneHotEncoder</label><div class=\"sk-toggleable__content\"><pre>OneHotEncoder(drop=&#x27;first&#x27;, handle_unknown=&#x27;ignore&#x27;)</pre></div></div></div></div></div></div></div></div><div class=\"sk-parallel-item\"><div class=\"sk-item\"><div class=\"sk-label-container\"><div class=\"sk-label sk-toggleable\"><input class=\"sk-toggleable__control sk-hidden--visually\" id=\"sk-estimator-id-14\" type=\"checkbox\" ><label for=\"sk-estimator-id-14\" class=\"sk-toggleable__label sk-toggleable__label-arrow\">num</label><div class=\"sk-toggleable__content\"><pre>[&#x27;Unit_of_Measure_(Per_Pack)&#x27;, &#x27;Line_Item_Quantity&#x27;, &#x27;Pack_Price&#x27;, &#x27;Unit_Price&#x27;, &#x27;Weight_(Kilograms)&#x27;, &#x27;Freight_Cost_(USD)&#x27;, &#x27;Line_Item_Insurance_(USD)&#x27;, &#x27;Days_to_Process&#x27;]</pre></div></div></div><div class=\"sk-serial\"><div class=\"sk-item\"><div class=\"sk-serial\"><div class=\"sk-item\"><div class=\"sk-estimator sk-toggleable\"><input class=\"sk-toggleable__control sk-hidden--visually\" id=\"sk-estimator-id-15\" type=\"checkbox\" ><label for=\"sk-estimator-id-15\" class=\"sk-toggleable__label sk-toggleable__label-arrow\">SimpleImputer</label><div class=\"sk-toggleable__content\"><pre>SimpleImputer(strategy=&#x27;median&#x27;)</pre></div></div></div><div class=\"sk-item\"><div class=\"sk-estimator sk-toggleable\"><input class=\"sk-toggleable__control sk-hidden--visually\" id=\"sk-estimator-id-16\" type=\"checkbox\" ><label for=\"sk-estimator-id-16\" class=\"sk-toggleable__label sk-toggleable__label-arrow\">RobustScaler</label><div class=\"sk-toggleable__content\"><pre>RobustScaler()</pre></div></div></div></div></div></div></div></div></div></div></div></div></div></div>"
      ],
      "text/plain": [
       "Pipeline(steps=[('preprocessor',\n",
       "                 ColumnTransformer(transformers=[('cat',\n",
       "                                                  Pipeline(steps=[('imputer',\n",
       "                                                                   SimpleImputer(fill_value='missing',\n",
       "                                                                                 strategy='most_frequent')),\n",
       "                                                                  ('onehot',\n",
       "                                                                   OneHotEncoder(drop='first',\n",
       "                                                                                 handle_unknown='ignore'))]),\n",
       "                                                  ['PO_/_SO_#', 'ASN/DN_#',\n",
       "                                                   'Country', 'Fulfill_Via',\n",
       "                                                   'Vendor_INCO_Term',\n",
       "                                                   'Shipment_Mode',\n",
       "                                                   'Sub_Classification',\n",
       "                                                   'First_Line_Designation']),\n",
       "                                                 ('num',\n",
       "                                                  Pipeline(steps=[('imputer',\n",
       "                                                                   SimpleImputer(strategy='median')),\n",
       "                                                                  ('scaler',\n",
       "                                                                   RobustScaler())]),\n",
       "                                                  ['Unit_of_Measure_(Per_Pack)',\n",
       "                                                   'Line_Item_Quantity',\n",
       "                                                   'Pack_Price', 'Unit_Price',\n",
       "                                                   'Weight_(Kilograms)',\n",
       "                                                   'Freight_Cost_(USD)',\n",
       "                                                   'Line_Item_Insurance_(USD)',\n",
       "                                                   'Days_to_Process'])]))])"
      ]
     },
     "execution_count": 45,
     "metadata": {},
     "output_type": "execute_result"
    }
   ],
   "source": [
    "pipeline"
   ]
  },
  {
   "cell_type": "code",
   "execution_count": 46,
   "metadata": {},
   "outputs": [],
   "source": [
    "X_final=pipeline.fit_transform(x)"
   ]
  },
  {
   "cell_type": "code",
   "execution_count": 47,
   "metadata": {},
   "outputs": [],
   "source": [
    "X_train_final, X_test_final, y_train_final, y_test_final = train_test_split(X_final, y_final,test_size=0.2, random_state=42)"
   ]
  },
  {
   "cell_type": "code",
   "execution_count": 48,
   "metadata": {},
   "outputs": [
    {
     "data": {
      "text/html": [
       "<style>#sk-container-id-3 {color: black;}#sk-container-id-3 pre{padding: 0;}#sk-container-id-3 div.sk-toggleable {background-color: white;}#sk-container-id-3 label.sk-toggleable__label {cursor: pointer;display: block;width: 100%;margin-bottom: 0;padding: 0.3em;box-sizing: border-box;text-align: center;}#sk-container-id-3 label.sk-toggleable__label-arrow:before {content: \"▸\";float: left;margin-right: 0.25em;color: #696969;}#sk-container-id-3 label.sk-toggleable__label-arrow:hover:before {color: black;}#sk-container-id-3 div.sk-estimator:hover label.sk-toggleable__label-arrow:before {color: black;}#sk-container-id-3 div.sk-toggleable__content {max-height: 0;max-width: 0;overflow: hidden;text-align: left;background-color: #f0f8ff;}#sk-container-id-3 div.sk-toggleable__content pre {margin: 0.2em;color: black;border-radius: 0.25em;background-color: #f0f8ff;}#sk-container-id-3 input.sk-toggleable__control:checked~div.sk-toggleable__content {max-height: 200px;max-width: 100%;overflow: auto;}#sk-container-id-3 input.sk-toggleable__control:checked~label.sk-toggleable__label-arrow:before {content: \"▾\";}#sk-container-id-3 div.sk-estimator input.sk-toggleable__control:checked~label.sk-toggleable__label {background-color: #d4ebff;}#sk-container-id-3 div.sk-label input.sk-toggleable__control:checked~label.sk-toggleable__label {background-color: #d4ebff;}#sk-container-id-3 input.sk-hidden--visually {border: 0;clip: rect(1px 1px 1px 1px);clip: rect(1px, 1px, 1px, 1px);height: 1px;margin: -1px;overflow: hidden;padding: 0;position: absolute;width: 1px;}#sk-container-id-3 div.sk-estimator {font-family: monospace;background-color: #f0f8ff;border: 1px dotted black;border-radius: 0.25em;box-sizing: border-box;margin-bottom: 0.5em;}#sk-container-id-3 div.sk-estimator:hover {background-color: #d4ebff;}#sk-container-id-3 div.sk-parallel-item::after {content: \"\";width: 100%;border-bottom: 1px solid gray;flex-grow: 1;}#sk-container-id-3 div.sk-label:hover label.sk-toggleable__label {background-color: #d4ebff;}#sk-container-id-3 div.sk-serial::before {content: \"\";position: absolute;border-left: 1px solid gray;box-sizing: border-box;top: 0;bottom: 0;left: 50%;z-index: 0;}#sk-container-id-3 div.sk-serial {display: flex;flex-direction: column;align-items: center;background-color: white;padding-right: 0.2em;padding-left: 0.2em;position: relative;}#sk-container-id-3 div.sk-item {position: relative;z-index: 1;}#sk-container-id-3 div.sk-parallel {display: flex;align-items: stretch;justify-content: center;background-color: white;position: relative;}#sk-container-id-3 div.sk-item::before, #sk-container-id-3 div.sk-parallel-item::before {content: \"\";position: absolute;border-left: 1px solid gray;box-sizing: border-box;top: 0;bottom: 0;left: 50%;z-index: -1;}#sk-container-id-3 div.sk-parallel-item {display: flex;flex-direction: column;z-index: 1;position: relative;background-color: white;}#sk-container-id-3 div.sk-parallel-item:first-child::after {align-self: flex-end;width: 50%;}#sk-container-id-3 div.sk-parallel-item:last-child::after {align-self: flex-start;width: 50%;}#sk-container-id-3 div.sk-parallel-item:only-child::after {width: 0;}#sk-container-id-3 div.sk-dashed-wrapped {border: 1px dashed gray;margin: 0 0.4em 0.5em 0.4em;box-sizing: border-box;padding-bottom: 0.4em;background-color: white;}#sk-container-id-3 div.sk-label label {font-family: monospace;font-weight: bold;display: inline-block;line-height: 1.2em;}#sk-container-id-3 div.sk-label-container {text-align: center;}#sk-container-id-3 div.sk-container {/* jupyter's `normalize.less` sets `[hidden] { display: none; }` but bootstrap.min.css set `[hidden] { display: none !important; }` so we also need the `!important` here to be able to override the default hidden behavior on the sphinx rendered scikit-learn.org. See: https://github.com/scikit-learn/scikit-learn/issues/21755 */display: inline-block !important;position: relative;}#sk-container-id-3 div.sk-text-repr-fallback {display: none;}</style><div id=\"sk-container-id-3\" class=\"sk-top-container\"><div class=\"sk-text-repr-fallback\"><pre>XGBRegressor(base_score=None, booster=None, callbacks=None,\n",
       "             colsample_bylevel=None, colsample_bynode=None,\n",
       "             colsample_bytree=None, early_stopping_rounds=None,\n",
       "             enable_categorical=False, eval_metric=None, feature_types=None,\n",
       "             gamma=None, gpu_id=None, grow_policy=None, importance_type=None,\n",
       "             interaction_constraints=None, learning_rate=None, max_bin=None,\n",
       "             max_cat_threshold=None, max_cat_to_onehot=None,\n",
       "             max_delta_step=None, max_depth=None, max_leaves=None,\n",
       "             min_child_weight=None, missing=nan, monotone_constraints=None,\n",
       "             n_estimators=100, n_jobs=None, num_parallel_tree=None,\n",
       "             predictor=None, random_state=None, ...)</pre><b>In a Jupyter environment, please rerun this cell to show the HTML representation or trust the notebook. <br />On GitHub, the HTML representation is unable to render, please try loading this page with nbviewer.org.</b></div><div class=\"sk-container\" hidden><div class=\"sk-item\"><div class=\"sk-estimator sk-toggleable\"><input class=\"sk-toggleable__control sk-hidden--visually\" id=\"sk-estimator-id-17\" type=\"checkbox\" checked><label for=\"sk-estimator-id-17\" class=\"sk-toggleable__label sk-toggleable__label-arrow\">XGBRegressor</label><div class=\"sk-toggleable__content\"><pre>XGBRegressor(base_score=None, booster=None, callbacks=None,\n",
       "             colsample_bylevel=None, colsample_bynode=None,\n",
       "             colsample_bytree=None, early_stopping_rounds=None,\n",
       "             enable_categorical=False, eval_metric=None, feature_types=None,\n",
       "             gamma=None, gpu_id=None, grow_policy=None, importance_type=None,\n",
       "             interaction_constraints=None, learning_rate=None, max_bin=None,\n",
       "             max_cat_threshold=None, max_cat_to_onehot=None,\n",
       "             max_delta_step=None, max_depth=None, max_leaves=None,\n",
       "             min_child_weight=None, missing=nan, monotone_constraints=None,\n",
       "             n_estimators=100, n_jobs=None, num_parallel_tree=None,\n",
       "             predictor=None, random_state=None, ...)</pre></div></div></div></div></div>"
      ],
      "text/plain": [
       "XGBRegressor(base_score=None, booster=None, callbacks=None,\n",
       "             colsample_bylevel=None, colsample_bynode=None,\n",
       "             colsample_bytree=None, early_stopping_rounds=None,\n",
       "             enable_categorical=False, eval_metric=None, feature_types=None,\n",
       "             gamma=None, gpu_id=None, grow_policy=None, importance_type=None,\n",
       "             interaction_constraints=None, learning_rate=None, max_bin=None,\n",
       "             max_cat_threshold=None, max_cat_to_onehot=None,\n",
       "             max_delta_step=None, max_depth=None, max_leaves=None,\n",
       "             min_child_weight=None, missing=nan, monotone_constraints=None,\n",
       "             n_estimators=100, n_jobs=None, num_parallel_tree=None,\n",
       "             predictor=None, random_state=None, ...)"
      ]
     },
     "execution_count": 48,
     "metadata": {},
     "output_type": "execute_result"
    }
   ],
   "source": [
    "final_model=XGBRegressor()\n",
    "final_model.fit(X_train_final,y_train_final)"
   ]
  },
  {
   "cell_type": "code",
   "execution_count": 49,
   "metadata": {},
   "outputs": [],
   "source": [
    "# Make predictions\n",
    "y_train_pred = final_model.predict(X_train)\n",
    "y_test_pred = final_model.predict(X_test)"
   ]
  },
  {
   "cell_type": "code",
   "execution_count": 84,
   "metadata": {},
   "outputs": [],
   "source": [
    "# Assuming you have a Robust Scaler object named 'target_scaler'\n",
    "original_predictions = y_test_pred.reshape(-1)\n",
    "original_predictions = scaler.inverse_transform(original_predictions.reshape(-1, 1))\n"
   ]
  },
  {
   "cell_type": "code",
   "execution_count": 90,
   "metadata": {},
   "outputs": [
    {
     "data": {
      "text/plain": [
       "174302.33"
      ]
     },
     "execution_count": 90,
     "metadata": {},
     "output_type": "execute_result"
    }
   ],
   "source": [
    "first_prediction_numeric = original_predictions[3][0]\n",
    "first_prediction_numeric"
   ]
  },
  {
   "cell_type": "code",
   "execution_count": 50,
   "metadata": {},
   "outputs": [
    {
     "name": "stdout",
     "output_type": "stream",
     "text": [
      "train-mse--> 0.000831306428900952\n",
      "train-r2--> 0.9998222928825992\n",
      "train-adjusted-r2 0.9998222712321219\n",
      "*************************************************\n",
      "test-mse--> 0.057252116868023076\n",
      "test-r2--> 0.9859671324433662\n",
      "test-adjusted-r2 0.9859602904796624\n"
     ]
    }
   ],
   "source": [
    "train_mse,train_r2,train_adjusted_r2=evaluate_regression(y_train_final,y_train_pred)\n",
    "test_mse,test_r2,test_adjusted_r2=evaluate_regression(y_test_final,y_test_pred)\n",
    "\n",
    "print(\"train-mse-->\",train_mse)\n",
    "print(\"train-r2-->\",train_r2)\n",
    "print(\"train-adjusted-r2\",train_adjusted_r2)\n",
    "print(\"*************************************************\")\n",
    "print(\"test-mse-->\",test_mse)\n",
    "print(\"test-r2-->\",test_r2)\n",
    "print(\"test-adjusted-r2\",test_adjusted_r2)"
   ]
  },
  {
   "cell_type": "markdown",
   "metadata": {},
   "source": [
    "# Saving Final Model and Predicting for new data"
   ]
  },
  {
   "cell_type": "code",
   "execution_count": 132,
   "metadata": {},
   "outputs": [],
   "source": [
    "y=df['Line_Item_Value']\n",
    "x=df.drop('Line_Item_Value',axis=1)"
   ]
  },
  {
   "cell_type": "code",
   "execution_count": null,
   "metadata": {},
   "outputs": [],
   "source": [
    "# Create transformers for categorical and numerical features\n",
    "categorical_transformer = Pipeline(steps=[\n",
    "    ('imputer', SimpleImputer(strategy='most_frequent', fill_value='missing')),\n",
    "    ('onehot', OneHotEncoder(drop='first',handle_unknown='ignore'))\n",
    "])\n",
    "numerical_transformer = Pipeline(steps=[\n",
    "    ('imputer', SimpleImputer(strategy='median')),\n",
    "    ('scaler', RobustScaler())])\n",
    "\n",
    "# Combine transformers using ColumnTransformer\n",
    "preprocessor = ColumnTransformer(\n",
    "    transformers=[\n",
    "        ('cat', categorical_transformer, cat_features),\n",
    "        ('num', numerical_transformer, num_features)\n",
    "    ])\n",
    "\n",
    "# Create the final pipeline\n",
    "pipeline = Pipeline(steps=[\n",
    "    ('preprocessor', preprocessor)\n",
    "])\n",
    "scaler=RobustScaler()\n",
    "# Reshape the target variable to fit the scaler's input format\n",
    "y = y.values.reshape(-1, 1)\n",
    "\n",
    "# Fit and transform the target variable\n",
    "y_transformed = scaler.fit_transform(y)\n",
    "\n",
    "y_transformed = y_transformed.flatten()\n"
   ]
  },
  {
   "cell_type": "code",
   "execution_count": 26,
   "metadata": {},
   "outputs": [
    {
     "name": "stdout",
     "output_type": "stream",
     "text": [
      "Model R-squared score: 0.9894892200037565\n"
     ]
    },
    {
     "data": {
      "text/plain": [
       "['final_pipeline.pkl']"
      ]
     },
     "execution_count": 26,
     "metadata": {},
     "output_type": "execute_result"
    }
   ],
   "source": [
    "\n",
    "from sklearn.pipeline import Pipeline, FeatureUnion\n",
    "from sklearn.compose import ColumnTransformer, TransformedTargetRegressor\n",
    "import joblib\n",
    "\n",
    "# Assuming you have your X and y prepared already\n",
    "\n",
    "y=df['Line_Item_Value']\n",
    "x=df.drop('Line_Item_Value',axis=1)\n",
    "\n",
    "target_scaler=RobustScaler()\n",
    "# Reshape the target variable to fit the scaler's input format\n",
    "y = y.values.reshape(-1, 1)\n",
    "\n",
    "# Fit and transform the target variable\n",
    "y_transformed = target_scaler.fit_transform(y)\n",
    "\n",
    "y_transformed = y_transformed.flatten()\n",
    "\n",
    "# Split the data into training and testing sets\n",
    "X_train, X_test, y_train, y_test = train_test_split(x, y_transformed, test_size=0.2, random_state=42)\n",
    "\n",
    "# Create transformers for categorical and numerical features\n",
    "categorical_transformer = Pipeline(steps=[\n",
    "    ('imputer', SimpleImputer(strategy='most_frequent', fill_value='missing')),\n",
    "    ('onehot', OneHotEncoder(drop='first', handle_unknown='ignore'))\n",
    "])\n",
    "numerical_transformer = Pipeline(steps=[\n",
    "    ('imputer', SimpleImputer(strategy='median')),\n",
    "    ('scaler', RobustScaler())\n",
    "])\n",
    "\n",
    "# Define categorical and numerical features (replace with your actual feature lists)\n",
    "cat_features =['PO_/_SO_#','ASN/DN_#','Country','Fulfill_Via','Vendor_INCO_Term','Shipment_Mode','Sub_Classification','First_Line_Designation'] # List of categorical feature column names\n",
    "num_features = ['Unit_of_Measure_(Per_Pack)','Line_Item_Quantity','Pack_Price','Unit_Price','Weight_(Kilograms)','Freight_Cost_(USD)','Line_Item_Insurance_(USD)','Days_to_Process'] # List of numerical feature column names\n",
    "\n",
    "# Combine transformers using ColumnTransformer\n",
    "preprocessor = ColumnTransformer(\n",
    "    transformers=[\n",
    "        ('cat', categorical_transformer, cat_features),\n",
    "        ('num', numerical_transformer, num_features)\n",
    "    ])\n",
    "\n",
    "# Create an XGBoostRegressor\n",
    "xgb_model = XGBRegressor(n_estimators=100, max_depth=3)  # Modify parameters as needed\n",
    "\n",
    "# Create a pipeline that includes preprocessing and XGBoost model\n",
    "final_pipeline = Pipeline(steps=[\n",
    "    ('preprocessor', preprocessor),\n",
    "    ('model', TransformedTargetRegressor(regressor=xgb_model, transformer=target_scaler))\n",
    "])\n",
    "\n",
    "# Fit the final pipeline on the training data\n",
    "final_pipeline.fit(X_train, y_train)\n",
    "\n",
    "# Evaluate the model\n",
    "score = final_pipeline.score(X_test, y_test)\n",
    "print(f\"Model R-squared score: {score}\")\n",
    "\n",
    "# Save the final pipeline and model\n",
    "joblib.dump(final_pipeline, 'final_pipeline.pkl')\n",
    "\n",
    "\n"
   ]
  },
  {
   "cell_type": "code",
   "execution_count": 27,
   "metadata": {},
   "outputs": [],
   "source": [
    "# To predict on new incoming data:\n",
    "import joblib\n",
    "loaded_pipeline = joblib.load('final_pipeline.pkl')"
   ]
  },
  {
   "cell_type": "code",
   "execution_count": 28,
   "metadata": {},
   "outputs": [
    {
     "data": {
      "text/html": [
       "<style>#sk-container-id-3 {color: black;}#sk-container-id-3 pre{padding: 0;}#sk-container-id-3 div.sk-toggleable {background-color: white;}#sk-container-id-3 label.sk-toggleable__label {cursor: pointer;display: block;width: 100%;margin-bottom: 0;padding: 0.3em;box-sizing: border-box;text-align: center;}#sk-container-id-3 label.sk-toggleable__label-arrow:before {content: \"▸\";float: left;margin-right: 0.25em;color: #696969;}#sk-container-id-3 label.sk-toggleable__label-arrow:hover:before {color: black;}#sk-container-id-3 div.sk-estimator:hover label.sk-toggleable__label-arrow:before {color: black;}#sk-container-id-3 div.sk-toggleable__content {max-height: 0;max-width: 0;overflow: hidden;text-align: left;background-color: #f0f8ff;}#sk-container-id-3 div.sk-toggleable__content pre {margin: 0.2em;color: black;border-radius: 0.25em;background-color: #f0f8ff;}#sk-container-id-3 input.sk-toggleable__control:checked~div.sk-toggleable__content {max-height: 200px;max-width: 100%;overflow: auto;}#sk-container-id-3 input.sk-toggleable__control:checked~label.sk-toggleable__label-arrow:before {content: \"▾\";}#sk-container-id-3 div.sk-estimator input.sk-toggleable__control:checked~label.sk-toggleable__label {background-color: #d4ebff;}#sk-container-id-3 div.sk-label input.sk-toggleable__control:checked~label.sk-toggleable__label {background-color: #d4ebff;}#sk-container-id-3 input.sk-hidden--visually {border: 0;clip: rect(1px 1px 1px 1px);clip: rect(1px, 1px, 1px, 1px);height: 1px;margin: -1px;overflow: hidden;padding: 0;position: absolute;width: 1px;}#sk-container-id-3 div.sk-estimator {font-family: monospace;background-color: #f0f8ff;border: 1px dotted black;border-radius: 0.25em;box-sizing: border-box;margin-bottom: 0.5em;}#sk-container-id-3 div.sk-estimator:hover {background-color: #d4ebff;}#sk-container-id-3 div.sk-parallel-item::after {content: \"\";width: 100%;border-bottom: 1px solid gray;flex-grow: 1;}#sk-container-id-3 div.sk-label:hover label.sk-toggleable__label {background-color: #d4ebff;}#sk-container-id-3 div.sk-serial::before {content: \"\";position: absolute;border-left: 1px solid gray;box-sizing: border-box;top: 0;bottom: 0;left: 50%;z-index: 0;}#sk-container-id-3 div.sk-serial {display: flex;flex-direction: column;align-items: center;background-color: white;padding-right: 0.2em;padding-left: 0.2em;position: relative;}#sk-container-id-3 div.sk-item {position: relative;z-index: 1;}#sk-container-id-3 div.sk-parallel {display: flex;align-items: stretch;justify-content: center;background-color: white;position: relative;}#sk-container-id-3 div.sk-item::before, #sk-container-id-3 div.sk-parallel-item::before {content: \"\";position: absolute;border-left: 1px solid gray;box-sizing: border-box;top: 0;bottom: 0;left: 50%;z-index: -1;}#sk-container-id-3 div.sk-parallel-item {display: flex;flex-direction: column;z-index: 1;position: relative;background-color: white;}#sk-container-id-3 div.sk-parallel-item:first-child::after {align-self: flex-end;width: 50%;}#sk-container-id-3 div.sk-parallel-item:last-child::after {align-self: flex-start;width: 50%;}#sk-container-id-3 div.sk-parallel-item:only-child::after {width: 0;}#sk-container-id-3 div.sk-dashed-wrapped {border: 1px dashed gray;margin: 0 0.4em 0.5em 0.4em;box-sizing: border-box;padding-bottom: 0.4em;background-color: white;}#sk-container-id-3 div.sk-label label {font-family: monospace;font-weight: bold;display: inline-block;line-height: 1.2em;}#sk-container-id-3 div.sk-label-container {text-align: center;}#sk-container-id-3 div.sk-container {/* jupyter's `normalize.less` sets `[hidden] { display: none; }` but bootstrap.min.css set `[hidden] { display: none !important; }` so we also need the `!important` here to be able to override the default hidden behavior on the sphinx rendered scikit-learn.org. See: https://github.com/scikit-learn/scikit-learn/issues/21755 */display: inline-block !important;position: relative;}#sk-container-id-3 div.sk-text-repr-fallback {display: none;}</style><div id=\"sk-container-id-3\" class=\"sk-top-container\"><div class=\"sk-text-repr-fallback\"><pre>Pipeline(steps=[(&#x27;preprocessor&#x27;,\n",
       "                 ColumnTransformer(transformers=[(&#x27;cat&#x27;,\n",
       "                                                  Pipeline(steps=[(&#x27;imputer&#x27;,\n",
       "                                                                   SimpleImputer(fill_value=&#x27;missing&#x27;,\n",
       "                                                                                 strategy=&#x27;most_frequent&#x27;)),\n",
       "                                                                  (&#x27;onehot&#x27;,\n",
       "                                                                   OneHotEncoder(drop=&#x27;first&#x27;,\n",
       "                                                                                 handle_unknown=&#x27;ignore&#x27;))]),\n",
       "                                                  [&#x27;PO_/_SO_#&#x27;, &#x27;ASN/DN_#&#x27;,\n",
       "                                                   &#x27;Country&#x27;, &#x27;Fulfill_Via&#x27;,\n",
       "                                                   &#x27;Vendor_INCO_Term&#x27;,\n",
       "                                                   &#x27;Shipment_Mode&#x27;,\n",
       "                                                   &#x27;Sub_Classification&#x27;,\n",
       "                                                   &#x27;First_Line_Designati...\n",
       "                                                                   importance_type=None,\n",
       "                                                                   interaction_constraints=None,\n",
       "                                                                   learning_rate=None,\n",
       "                                                                   max_bin=None,\n",
       "                                                                   max_cat_threshold=None,\n",
       "                                                                   max_cat_to_onehot=None,\n",
       "                                                                   max_delta_step=None,\n",
       "                                                                   max_depth=3,\n",
       "                                                                   max_leaves=None,\n",
       "                                                                   min_child_weight=None,\n",
       "                                                                   missing=nan,\n",
       "                                                                   monotone_constraints=None,\n",
       "                                                                   n_estimators=100,\n",
       "                                                                   n_jobs=None,\n",
       "                                                                   num_parallel_tree=None,\n",
       "                                                                   predictor=None,\n",
       "                                                                   random_state=None, ...),\n",
       "                                            transformer=RobustScaler()))])</pre><b>In a Jupyter environment, please rerun this cell to show the HTML representation or trust the notebook. <br />On GitHub, the HTML representation is unable to render, please try loading this page with nbviewer.org.</b></div><div class=\"sk-container\" hidden><div class=\"sk-item sk-dashed-wrapped\"><div class=\"sk-label-container\"><div class=\"sk-label sk-toggleable\"><input class=\"sk-toggleable__control sk-hidden--visually\" id=\"sk-estimator-id-19\" type=\"checkbox\" ><label for=\"sk-estimator-id-19\" class=\"sk-toggleable__label sk-toggleable__label-arrow\">Pipeline</label><div class=\"sk-toggleable__content\"><pre>Pipeline(steps=[(&#x27;preprocessor&#x27;,\n",
       "                 ColumnTransformer(transformers=[(&#x27;cat&#x27;,\n",
       "                                                  Pipeline(steps=[(&#x27;imputer&#x27;,\n",
       "                                                                   SimpleImputer(fill_value=&#x27;missing&#x27;,\n",
       "                                                                                 strategy=&#x27;most_frequent&#x27;)),\n",
       "                                                                  (&#x27;onehot&#x27;,\n",
       "                                                                   OneHotEncoder(drop=&#x27;first&#x27;,\n",
       "                                                                                 handle_unknown=&#x27;ignore&#x27;))]),\n",
       "                                                  [&#x27;PO_/_SO_#&#x27;, &#x27;ASN/DN_#&#x27;,\n",
       "                                                   &#x27;Country&#x27;, &#x27;Fulfill_Via&#x27;,\n",
       "                                                   &#x27;Vendor_INCO_Term&#x27;,\n",
       "                                                   &#x27;Shipment_Mode&#x27;,\n",
       "                                                   &#x27;Sub_Classification&#x27;,\n",
       "                                                   &#x27;First_Line_Designati...\n",
       "                                                                   importance_type=None,\n",
       "                                                                   interaction_constraints=None,\n",
       "                                                                   learning_rate=None,\n",
       "                                                                   max_bin=None,\n",
       "                                                                   max_cat_threshold=None,\n",
       "                                                                   max_cat_to_onehot=None,\n",
       "                                                                   max_delta_step=None,\n",
       "                                                                   max_depth=3,\n",
       "                                                                   max_leaves=None,\n",
       "                                                                   min_child_weight=None,\n",
       "                                                                   missing=nan,\n",
       "                                                                   monotone_constraints=None,\n",
       "                                                                   n_estimators=100,\n",
       "                                                                   n_jobs=None,\n",
       "                                                                   num_parallel_tree=None,\n",
       "                                                                   predictor=None,\n",
       "                                                                   random_state=None, ...),\n",
       "                                            transformer=RobustScaler()))])</pre></div></div></div><div class=\"sk-serial\"><div class=\"sk-item sk-dashed-wrapped\"><div class=\"sk-label-container\"><div class=\"sk-label sk-toggleable\"><input class=\"sk-toggleable__control sk-hidden--visually\" id=\"sk-estimator-id-20\" type=\"checkbox\" ><label for=\"sk-estimator-id-20\" class=\"sk-toggleable__label sk-toggleable__label-arrow\">preprocessor: ColumnTransformer</label><div class=\"sk-toggleable__content\"><pre>ColumnTransformer(transformers=[(&#x27;cat&#x27;,\n",
       "                                 Pipeline(steps=[(&#x27;imputer&#x27;,\n",
       "                                                  SimpleImputer(fill_value=&#x27;missing&#x27;,\n",
       "                                                                strategy=&#x27;most_frequent&#x27;)),\n",
       "                                                 (&#x27;onehot&#x27;,\n",
       "                                                  OneHotEncoder(drop=&#x27;first&#x27;,\n",
       "                                                                handle_unknown=&#x27;ignore&#x27;))]),\n",
       "                                 [&#x27;PO_/_SO_#&#x27;, &#x27;ASN/DN_#&#x27;, &#x27;Country&#x27;,\n",
       "                                  &#x27;Fulfill_Via&#x27;, &#x27;Vendor_INCO_Term&#x27;,\n",
       "                                  &#x27;Shipment_Mode&#x27;, &#x27;Sub_Classification&#x27;,\n",
       "                                  &#x27;First_Line_Designation&#x27;]),\n",
       "                                (&#x27;num&#x27;,\n",
       "                                 Pipeline(steps=[(&#x27;imputer&#x27;,\n",
       "                                                  SimpleImputer(strategy=&#x27;median&#x27;)),\n",
       "                                                 (&#x27;scaler&#x27;, RobustScaler())]),\n",
       "                                 [&#x27;Unit_of_Measure_(Per_Pack)&#x27;,\n",
       "                                  &#x27;Line_Item_Quantity&#x27;, &#x27;Pack_Price&#x27;,\n",
       "                                  &#x27;Unit_Price&#x27;, &#x27;Weight_(Kilograms)&#x27;,\n",
       "                                  &#x27;Freight_Cost_(USD)&#x27;,\n",
       "                                  &#x27;Line_Item_Insurance_(USD)&#x27;,\n",
       "                                  &#x27;Days_to_Process&#x27;])])</pre></div></div></div><div class=\"sk-parallel\"><div class=\"sk-parallel-item\"><div class=\"sk-item\"><div class=\"sk-label-container\"><div class=\"sk-label sk-toggleable\"><input class=\"sk-toggleable__control sk-hidden--visually\" id=\"sk-estimator-id-21\" type=\"checkbox\" ><label for=\"sk-estimator-id-21\" class=\"sk-toggleable__label sk-toggleable__label-arrow\">cat</label><div class=\"sk-toggleable__content\"><pre>[&#x27;PO_/_SO_#&#x27;, &#x27;ASN/DN_#&#x27;, &#x27;Country&#x27;, &#x27;Fulfill_Via&#x27;, &#x27;Vendor_INCO_Term&#x27;, &#x27;Shipment_Mode&#x27;, &#x27;Sub_Classification&#x27;, &#x27;First_Line_Designation&#x27;]</pre></div></div></div><div class=\"sk-serial\"><div class=\"sk-item\"><div class=\"sk-serial\"><div class=\"sk-item\"><div class=\"sk-estimator sk-toggleable\"><input class=\"sk-toggleable__control sk-hidden--visually\" id=\"sk-estimator-id-22\" type=\"checkbox\" ><label for=\"sk-estimator-id-22\" class=\"sk-toggleable__label sk-toggleable__label-arrow\">SimpleImputer</label><div class=\"sk-toggleable__content\"><pre>SimpleImputer(fill_value=&#x27;missing&#x27;, strategy=&#x27;most_frequent&#x27;)</pre></div></div></div><div class=\"sk-item\"><div class=\"sk-estimator sk-toggleable\"><input class=\"sk-toggleable__control sk-hidden--visually\" id=\"sk-estimator-id-23\" type=\"checkbox\" ><label for=\"sk-estimator-id-23\" class=\"sk-toggleable__label sk-toggleable__label-arrow\">OneHotEncoder</label><div class=\"sk-toggleable__content\"><pre>OneHotEncoder(drop=&#x27;first&#x27;, handle_unknown=&#x27;ignore&#x27;)</pre></div></div></div></div></div></div></div></div><div class=\"sk-parallel-item\"><div class=\"sk-item\"><div class=\"sk-label-container\"><div class=\"sk-label sk-toggleable\"><input class=\"sk-toggleable__control sk-hidden--visually\" id=\"sk-estimator-id-24\" type=\"checkbox\" ><label for=\"sk-estimator-id-24\" class=\"sk-toggleable__label sk-toggleable__label-arrow\">num</label><div class=\"sk-toggleable__content\"><pre>[&#x27;Unit_of_Measure_(Per_Pack)&#x27;, &#x27;Line_Item_Quantity&#x27;, &#x27;Pack_Price&#x27;, &#x27;Unit_Price&#x27;, &#x27;Weight_(Kilograms)&#x27;, &#x27;Freight_Cost_(USD)&#x27;, &#x27;Line_Item_Insurance_(USD)&#x27;, &#x27;Days_to_Process&#x27;]</pre></div></div></div><div class=\"sk-serial\"><div class=\"sk-item\"><div class=\"sk-serial\"><div class=\"sk-item\"><div class=\"sk-estimator sk-toggleable\"><input class=\"sk-toggleable__control sk-hidden--visually\" id=\"sk-estimator-id-25\" type=\"checkbox\" ><label for=\"sk-estimator-id-25\" class=\"sk-toggleable__label sk-toggleable__label-arrow\">SimpleImputer</label><div class=\"sk-toggleable__content\"><pre>SimpleImputer(strategy=&#x27;median&#x27;)</pre></div></div></div><div class=\"sk-item\"><div class=\"sk-estimator sk-toggleable\"><input class=\"sk-toggleable__control sk-hidden--visually\" id=\"sk-estimator-id-26\" type=\"checkbox\" ><label for=\"sk-estimator-id-26\" class=\"sk-toggleable__label sk-toggleable__label-arrow\">RobustScaler</label><div class=\"sk-toggleable__content\"><pre>RobustScaler()</pre></div></div></div></div></div></div></div></div></div></div><div class=\"sk-item sk-dashed-wrapped\"><div class=\"sk-label-container\"><div class=\"sk-label sk-toggleable\"><input class=\"sk-toggleable__control sk-hidden--visually\" id=\"sk-estimator-id-27\" type=\"checkbox\" ><label for=\"sk-estimator-id-27\" class=\"sk-toggleable__label sk-toggleable__label-arrow\">model: TransformedTargetRegressor</label><div class=\"sk-toggleable__content\"><pre>TransformedTargetRegressor(regressor=XGBRegressor(base_score=None, booster=None,\n",
       "                                                  callbacks=None,\n",
       "                                                  colsample_bylevel=None,\n",
       "                                                  colsample_bynode=None,\n",
       "                                                  colsample_bytree=None,\n",
       "                                                  early_stopping_rounds=None,\n",
       "                                                  enable_categorical=False,\n",
       "                                                  eval_metric=None,\n",
       "                                                  feature_types=None,\n",
       "                                                  gamma=None, gpu_id=None,\n",
       "                                                  grow_policy=None,\n",
       "                                                  importance_type=None,\n",
       "                                                  interaction_constraints=None,\n",
       "                                                  learning_rate=None,\n",
       "                                                  max_bin=None,\n",
       "                                                  max_cat_threshold=None,\n",
       "                                                  max_cat_to_onehot=None,\n",
       "                                                  max_delta_step=None,\n",
       "                                                  max_depth=3, max_leaves=None,\n",
       "                                                  min_child_weight=None,\n",
       "                                                  missing=nan,\n",
       "                                                  monotone_constraints=None,\n",
       "                                                  n_estimators=100, n_jobs=None,\n",
       "                                                  num_parallel_tree=None,\n",
       "                                                  predictor=None,\n",
       "                                                  random_state=None, ...),\n",
       "                           transformer=RobustScaler())</pre></div></div></div><div class=\"sk-parallel\"><div class=\"sk-parallel-item\"><div class=\"sk-item\"><div class=\"sk-label-container\"><div class=\"sk-label sk-toggleable\"><input class=\"sk-toggleable__control sk-hidden--visually\" id=\"sk-estimator-id-28\" type=\"checkbox\" ><label for=\"sk-estimator-id-28\" class=\"sk-toggleable__label sk-toggleable__label-arrow\">regressor: XGBRegressor</label><div class=\"sk-toggleable__content\"><pre>XGBRegressor(base_score=None, booster=None, callbacks=None,\n",
       "             colsample_bylevel=None, colsample_bynode=None,\n",
       "             colsample_bytree=None, early_stopping_rounds=None,\n",
       "             enable_categorical=False, eval_metric=None, feature_types=None,\n",
       "             gamma=None, gpu_id=None, grow_policy=None, importance_type=None,\n",
       "             interaction_constraints=None, learning_rate=None, max_bin=None,\n",
       "             max_cat_threshold=None, max_cat_to_onehot=None,\n",
       "             max_delta_step=None, max_depth=3, max_leaves=None,\n",
       "             min_child_weight=None, missing=nan, monotone_constraints=None,\n",
       "             n_estimators=100, n_jobs=None, num_parallel_tree=None,\n",
       "             predictor=None, random_state=None, ...)</pre></div></div></div><div class=\"sk-serial\"><div class=\"sk-item\"><div class=\"sk-estimator sk-toggleable\"><input class=\"sk-toggleable__control sk-hidden--visually\" id=\"sk-estimator-id-29\" type=\"checkbox\" ><label for=\"sk-estimator-id-29\" class=\"sk-toggleable__label sk-toggleable__label-arrow\">XGBRegressor</label><div class=\"sk-toggleable__content\"><pre>XGBRegressor(base_score=None, booster=None, callbacks=None,\n",
       "             colsample_bylevel=None, colsample_bynode=None,\n",
       "             colsample_bytree=None, early_stopping_rounds=None,\n",
       "             enable_categorical=False, eval_metric=None, feature_types=None,\n",
       "             gamma=None, gpu_id=None, grow_policy=None, importance_type=None,\n",
       "             interaction_constraints=None, learning_rate=None, max_bin=None,\n",
       "             max_cat_threshold=None, max_cat_to_onehot=None,\n",
       "             max_delta_step=None, max_depth=3, max_leaves=None,\n",
       "             min_child_weight=None, missing=nan, monotone_constraints=None,\n",
       "             n_estimators=100, n_jobs=None, num_parallel_tree=None,\n",
       "             predictor=None, random_state=None, ...)</pre></div></div></div></div></div></div><div class=\"sk-parallel-item\"><div class=\"sk-item\"><div class=\"sk-label-container\"><div class=\"sk-label sk-toggleable\"><input class=\"sk-toggleable__control sk-hidden--visually\" id=\"sk-estimator-id-30\" type=\"checkbox\" ><label for=\"sk-estimator-id-30\" class=\"sk-toggleable__label sk-toggleable__label-arrow\">transformer: RobustScaler</label><div class=\"sk-toggleable__content\"><pre>RobustScaler()</pre></div></div></div><div class=\"sk-serial\"><div class=\"sk-item\"><div class=\"sk-estimator sk-toggleable\"><input class=\"sk-toggleable__control sk-hidden--visually\" id=\"sk-estimator-id-31\" type=\"checkbox\" ><label for=\"sk-estimator-id-31\" class=\"sk-toggleable__label sk-toggleable__label-arrow\">RobustScaler</label><div class=\"sk-toggleable__content\"><pre>RobustScaler()</pre></div></div></div></div></div></div></div></div></div></div></div></div>"
      ],
      "text/plain": [
       "Pipeline(steps=[('preprocessor',\n",
       "                 ColumnTransformer(transformers=[('cat',\n",
       "                                                  Pipeline(steps=[('imputer',\n",
       "                                                                   SimpleImputer(fill_value='missing',\n",
       "                                                                                 strategy='most_frequent')),\n",
       "                                                                  ('onehot',\n",
       "                                                                   OneHotEncoder(drop='first',\n",
       "                                                                                 handle_unknown='ignore'))]),\n",
       "                                                  ['PO_/_SO_#', 'ASN/DN_#',\n",
       "                                                   'Country', 'Fulfill_Via',\n",
       "                                                   'Vendor_INCO_Term',\n",
       "                                                   'Shipment_Mode',\n",
       "                                                   'Sub_Classification',\n",
       "                                                   'First_Line_Designati...\n",
       "                                                                   importance_type=None,\n",
       "                                                                   interaction_constraints=None,\n",
       "                                                                   learning_rate=None,\n",
       "                                                                   max_bin=None,\n",
       "                                                                   max_cat_threshold=None,\n",
       "                                                                   max_cat_to_onehot=None,\n",
       "                                                                   max_delta_step=None,\n",
       "                                                                   max_depth=3,\n",
       "                                                                   max_leaves=None,\n",
       "                                                                   min_child_weight=None,\n",
       "                                                                   missing=nan,\n",
       "                                                                   monotone_constraints=None,\n",
       "                                                                   n_estimators=100,\n",
       "                                                                   n_jobs=None,\n",
       "                                                                   num_parallel_tree=None,\n",
       "                                                                   predictor=None,\n",
       "                                                                   random_state=None, ...),\n",
       "                                            transformer=RobustScaler()))])"
      ]
     },
     "execution_count": 28,
     "metadata": {},
     "output_type": "execute_result"
    }
   ],
   "source": [
    "loaded_pipeline"
   ]
  },
  {
   "cell_type": "code",
   "execution_count": 29,
   "metadata": {},
   "outputs": [],
   "source": [
    "data=pd.DataFrame([x.iloc[3700]],index=[0])"
   ]
  },
  {
   "cell_type": "code",
   "execution_count": 30,
   "metadata": {},
   "outputs": [
    {
     "data": {
      "text/html": [
       "<div>\n",
       "<style scoped>\n",
       "    .dataframe tbody tr th:only-of-type {\n",
       "        vertical-align: middle;\n",
       "    }\n",
       "\n",
       "    .dataframe tbody tr th {\n",
       "        vertical-align: top;\n",
       "    }\n",
       "\n",
       "    .dataframe thead th {\n",
       "        text-align: right;\n",
       "    }\n",
       "</style>\n",
       "<table border=\"1\" class=\"dataframe\">\n",
       "  <thead>\n",
       "    <tr style=\"text-align: right;\">\n",
       "      <th></th>\n",
       "      <th>PO_/_SO_#</th>\n",
       "      <th>ASN/DN_#</th>\n",
       "      <th>Country</th>\n",
       "      <th>Fulfill_Via</th>\n",
       "      <th>Vendor_INCO_Term</th>\n",
       "      <th>Shipment_Mode</th>\n",
       "      <th>Sub_Classification</th>\n",
       "      <th>Unit_of_Measure_(Per_Pack)</th>\n",
       "      <th>Line_Item_Quantity</th>\n",
       "      <th>Pack_Price</th>\n",
       "      <th>Unit_Price</th>\n",
       "      <th>First_Line_Designation</th>\n",
       "      <th>Weight_(Kilograms)</th>\n",
       "      <th>Freight_Cost_(USD)</th>\n",
       "      <th>Line_Item_Insurance_(USD)</th>\n",
       "      <th>Days_to_Process</th>\n",
       "    </tr>\n",
       "  </thead>\n",
       "  <tbody>\n",
       "    <tr>\n",
       "      <th>0</th>\n",
       "      <td>SCMS</td>\n",
       "      <td>ASN</td>\n",
       "      <td>Vietnam</td>\n",
       "      <td>Direct Drop</td>\n",
       "      <td>EXW</td>\n",
       "      <td>Air</td>\n",
       "      <td>Adult</td>\n",
       "      <td>60</td>\n",
       "      <td>18406</td>\n",
       "      <td>11.0</td>\n",
       "      <td>0.18</td>\n",
       "      <td>Yes</td>\n",
       "      <td>2571.0</td>\n",
       "      <td>13880.57</td>\n",
       "      <td>334.07</td>\n",
       "      <td>191</td>\n",
       "    </tr>\n",
       "  </tbody>\n",
       "</table>\n",
       "</div>"
      ],
      "text/plain": [
       "  PO_/_SO_# ASN/DN_#  Country  Fulfill_Via Vendor_INCO_Term Shipment_Mode  \\\n",
       "0      SCMS      ASN  Vietnam  Direct Drop              EXW           Air   \n",
       "\n",
       "  Sub_Classification  Unit_of_Measure_(Per_Pack)  Line_Item_Quantity  \\\n",
       "0              Adult                          60               18406   \n",
       "\n",
       "   Pack_Price  Unit_Price First_Line_Designation  Weight_(Kilograms)  \\\n",
       "0        11.0        0.18                    Yes              2571.0   \n",
       "\n",
       "   Freight_Cost_(USD)  Line_Item_Insurance_(USD)  Days_to_Process  \n",
       "0            13880.57                     334.07              191  "
      ]
     },
     "execution_count": 30,
     "metadata": {},
     "output_type": "execute_result"
    }
   ],
   "source": [
    "data"
   ]
  },
  {
   "cell_type": "code",
   "execution_count": 31,
   "metadata": {},
   "outputs": [],
   "source": [
    "preprocessed_new_data = loaded_pipeline.named_steps['preprocessor'].transform(data)"
   ]
  },
  {
   "cell_type": "code",
   "execution_count": 32,
   "metadata": {},
   "outputs": [
    {
     "data": {
      "text/plain": [
       "<1x66 sparse matrix of type '<class 'numpy.float64'>'\n",
       "\twith 11 stored elements in Compressed Sparse Row format>"
      ]
     },
     "execution_count": 32,
     "metadata": {},
     "output_type": "execute_result"
    }
   ],
   "source": [
    "preprocessed_new_data"
   ]
  },
  {
   "cell_type": "code",
   "execution_count": 33,
   "metadata": {},
   "outputs": [],
   "source": [
    "# Make predictions on the preprocessed new data\n",
    "new_data_predictions = loaded_pipeline.named_steps['model'].predict(preprocessed_new_data)"
   ]
  },
  {
   "cell_type": "code",
   "execution_count": 34,
   "metadata": {},
   "outputs": [
    {
     "data": {
      "text/plain": [
       "array([1.1310856], dtype=float32)"
      ]
     },
     "execution_count": 34,
     "metadata": {},
     "output_type": "execute_result"
    }
   ],
   "source": [
    "new_data_predictions"
   ]
  },
  {
   "cell_type": "code",
   "execution_count": 35,
   "metadata": {},
   "outputs": [
    {
     "data": {
      "text/plain": [
       "1.1310856"
      ]
     },
     "execution_count": 35,
     "metadata": {},
     "output_type": "execute_result"
    }
   ],
   "source": [
    "new_data_predictions[0]"
   ]
  },
  {
   "cell_type": "code",
   "execution_count": 38,
   "metadata": {},
   "outputs": [
    {
     "data": {
      "text/plain": [
       "array([1.1310856], dtype=float32)"
      ]
     },
     "execution_count": 38,
     "metadata": {},
     "output_type": "execute_result"
    }
   ],
   "source": [
    "scaled_prediction=loaded_pipeline.named_steps['model'].predict(preprocessed_new_data)\n",
    "scaled_prediction"
   ]
  },
  {
   "cell_type": "code",
   "execution_count": 47,
   "metadata": {},
   "outputs": [
    {
     "name": "stdout",
     "output_type": "stream",
     "text": [
      "Predicted target value for new data (original scale): 213857.27\n"
     ]
    }
   ],
   "source": [
    "# Inverse transform the scaled prediction using the original scaler\n",
    "original_scale_prediction = target_scaler.inverse_transform(scaled_prediction.reshape(-1, 1))\n",
    "\n",
    "print(\"Predicted target value for new data (original scale):\", original_scale_prediction[0][0])"
   ]
  },
  {
   "cell_type": "markdown",
   "metadata": {},
   "source": [
    "The actual value for Line_Item_Value is 202466 we are close to our predictions"
   ]
  },
  {
   "cell_type": "code",
   "execution_count": 57,
   "metadata": {},
   "outputs": [],
   "source": [
    "data2=pd.DataFrame([df.iloc[9000]],index=[0])"
   ]
  },
  {
   "cell_type": "code",
   "execution_count": 58,
   "metadata": {},
   "outputs": [
    {
     "data": {
      "text/html": [
       "<div>\n",
       "<style scoped>\n",
       "    .dataframe tbody tr th:only-of-type {\n",
       "        vertical-align: middle;\n",
       "    }\n",
       "\n",
       "    .dataframe tbody tr th {\n",
       "        vertical-align: top;\n",
       "    }\n",
       "\n",
       "    .dataframe thead th {\n",
       "        text-align: right;\n",
       "    }\n",
       "</style>\n",
       "<table border=\"1\" class=\"dataframe\">\n",
       "  <thead>\n",
       "    <tr style=\"text-align: right;\">\n",
       "      <th></th>\n",
       "      <th>PO_/_SO_#</th>\n",
       "      <th>ASN/DN_#</th>\n",
       "      <th>Country</th>\n",
       "      <th>Fulfill_Via</th>\n",
       "      <th>Vendor_INCO_Term</th>\n",
       "      <th>Shipment_Mode</th>\n",
       "      <th>Sub_Classification</th>\n",
       "      <th>Unit_of_Measure_(Per_Pack)</th>\n",
       "      <th>Line_Item_Quantity</th>\n",
       "      <th>Line_Item_Value</th>\n",
       "      <th>Pack_Price</th>\n",
       "      <th>Unit_Price</th>\n",
       "      <th>First_Line_Designation</th>\n",
       "      <th>Weight_(Kilograms)</th>\n",
       "      <th>Freight_Cost_(USD)</th>\n",
       "      <th>Line_Item_Insurance_(USD)</th>\n",
       "      <th>Days_to_Process</th>\n",
       "    </tr>\n",
       "  </thead>\n",
       "  <tbody>\n",
       "    <tr>\n",
       "      <th>0</th>\n",
       "      <td>SO</td>\n",
       "      <td>DN</td>\n",
       "      <td>Zimbabwe</td>\n",
       "      <td>From RDC</td>\n",
       "      <td>N/A - From RDC</td>\n",
       "      <td>Truck</td>\n",
       "      <td>Adult</td>\n",
       "      <td>60</td>\n",
       "      <td>9073</td>\n",
       "      <td>22773.23</td>\n",
       "      <td>2.51</td>\n",
       "      <td>0.04</td>\n",
       "      <td>Yes</td>\n",
       "      <td>521.0</td>\n",
       "      <td>2494.56</td>\n",
       "      <td>49.1</td>\n",
       "      <td>239</td>\n",
       "    </tr>\n",
       "  </tbody>\n",
       "</table>\n",
       "</div>"
      ],
      "text/plain": [
       "  PO_/_SO_# ASN/DN_#   Country Fulfill_Via Vendor_INCO_Term Shipment_Mode  \\\n",
       "0        SO       DN  Zimbabwe    From RDC   N/A - From RDC         Truck   \n",
       "\n",
       "  Sub_Classification  Unit_of_Measure_(Per_Pack)  Line_Item_Quantity  \\\n",
       "0              Adult                          60                9073   \n",
       "\n",
       "   Line_Item_Value  Pack_Price  Unit_Price First_Line_Designation  \\\n",
       "0         22773.23        2.51        0.04                    Yes   \n",
       "\n",
       "   Weight_(Kilograms)  Freight_Cost_(USD)  Line_Item_Insurance_(USD)  \\\n",
       "0               521.0             2494.56                       49.1   \n",
       "\n",
       "   Days_to_Process  \n",
       "0              239  "
      ]
     },
     "execution_count": 58,
     "metadata": {},
     "output_type": "execute_result"
    }
   ],
   "source": [
    "data2"
   ]
  },
  {
   "cell_type": "code",
   "execution_count": 59,
   "metadata": {},
   "outputs": [],
   "source": [
    "preprocessed_new_data2 = loaded_pipeline.named_steps['preprocessor'].transform(data2)"
   ]
  },
  {
   "cell_type": "code",
   "execution_count": 60,
   "metadata": {},
   "outputs": [],
   "source": [
    "# Make predictions on the preprocessed new data\n",
    "new_data_predictions2 = loaded_pipeline.named_steps['model'].predict(preprocessed_new_data2)"
   ]
  },
  {
   "cell_type": "code",
   "execution_count": 61,
   "metadata": {},
   "outputs": [
    {
     "name": "stdout",
     "output_type": "stream",
     "text": [
      "Predicted target value for new data (original scale): 21953.521\n"
     ]
    }
   ],
   "source": [
    "scaled_prediction2=loaded_pipeline.named_steps['model'].predict(preprocessed_new_data2)\n",
    "scaled_prediction2\n",
    "# Inverse transform the scaled prediction using the original scaler\n",
    "original_scale_prediction2 = target_scaler.inverse_transform(scaled_prediction2.reshape(-1, 1))\n",
    "\n",
    "print(\"Predicted target value for new data (original scale):\", original_scale_prediction2[0][0])"
   ]
  },
  {
   "cell_type": "code",
   "execution_count": null,
   "metadata": {},
   "outputs": [],
   "source": []
  },
  {
   "cell_type": "code",
   "execution_count": 56,
   "metadata": {},
   "outputs": [
    {
     "data": {
      "text/plain": [
       "PO_/_SO_#                                 SO\n",
       "ASN/DN_#                                  DN\n",
       "Country                             Zimbabwe\n",
       "Fulfill_Via                         From RDC\n",
       "Vendor_INCO_Term              N/A - From RDC\n",
       "Shipment_Mode                          Truck\n",
       "Sub_Classification                     Adult\n",
       "Unit_of_Measure_(Per_Pack)                60\n",
       "Line_Item_Quantity                      9073\n",
       "Line_Item_Value                     22773.23\n",
       "Pack_Price                              2.51\n",
       "Unit_Price                              0.04\n",
       "First_Line_Designation                   Yes\n",
       "Weight_(Kilograms)                     521.0\n",
       "Freight_Cost_(USD)                   2494.56\n",
       "Line_Item_Insurance_(USD)               49.1\n",
       "Days_to_Process                          239\n",
       "Name: 9000, dtype: object"
      ]
     },
     "execution_count": 56,
     "metadata": {},
     "output_type": "execute_result"
    }
   ],
   "source": [
    "df.iloc[9000]"
   ]
  },
  {
   "cell_type": "code",
   "execution_count": null,
   "metadata": {},
   "outputs": [],
   "source": []
  }
 ],
 "metadata": {
  "kernelspec": {
   "display_name": "Python 3",
   "language": "python",
   "name": "python3"
  },
  "language_info": {
   "codemirror_mode": {
    "name": "ipython",
    "version": 3
   },
   "file_extension": ".py",
   "mimetype": "text/x-python",
   "name": "python",
   "nbconvert_exporter": "python",
   "pygments_lexer": "ipython3",
   "version": "3.9.0"
  },
  "orig_nbformat": 4
 },
 "nbformat": 4,
 "nbformat_minor": 2
}
